{
 "cells": [
  {
   "cell_type": "code",
   "execution_count": null,
   "id": "0000c9a3",
   "metadata": {},
   "outputs": [],
   "source": [
    "from osgeo import gdal #to crop tile\n",
    "import numpy as np\n",
    "import pandas as pd\n",
    "import matplotlib.pyplot as plt\n",
    "import glob\n",
    "import os\n",
    "\n",
    "# File paths to images\n",
    "from pathlib import Path\n",
    "\n",
    "gdal.UseExceptions()"
   ]
  },
  {
   "cell_type": "code",
   "execution_count": null,
   "id": "ea580439",
   "metadata": {},
   "outputs": [],
   "source": [
    "# Split every image into 512x512 px to create 256x256 m images\n",
    "\n",
    "skysat_path = 'path_to_skysat_images'\n",
    "output_path = 'output_path'\n",
    "data_to_process_3 = glob.glob(os.path.join(skysat_path, '*.tif'))\n",
    "# Dimensions of output images\n",
    "tile_px = 512\n",
    "for clip_img in os.list.dir(skysat_path):\n",
    "    img = gdal.Open(clip_img)\n",
    "    gt = img.GetGeoTransform()\n",
    "    \n",
    "    # Upper left coordinates\n",
    "    xmin = gt[0]\n",
    "    ymax = gt[3]\n",
    "    \n",
    "    # Resolution and division\n",
    "    res = gt[1]\n",
    "    tile_size = res * tile_px\n",
    "    num_x = int(img.RasterXSize / tile_px)\n",
    "    num_y = int(img.RasterYSize / tile_px)\n",
    "    \n",
    "    xsteps = [xmin + tile_size * i for i in range(num_x+1)]\n",
    "    ysteps = [ymax - tile_size * i for i in range(num_y+1)]\n",
    "    \n",
    "    for i in range(num_x):\n",
    "        for j in range(num_y):\n",
    "            xmin = xsteps[i]\n",
    "            xmax = xsteps[i+1]\n",
    "            ymax = ysteps[j]\n",
    "            ymin = ysteps[j+1]\n",
    "            \n",
    "            # Create and save the subsetted image\n",
    "            filename = output_path + clip_img[64:-4] + '_' + str(i).zfill(2) + str(j).zfill(2) + '.tif'\n",
    "            raster = gdal.Warp(filename, img, outputBounds=(xmin,ymin,xmax,ymax))"
   ]
  },
  {
   "cell_type": "code",
   "execution_count": null,
   "id": "7389871e",
   "metadata": {},
   "outputs": [],
   "source": [
    "# Delete all images that don't contain full image (from subset skysat collect)\n",
    "clip_path = 'output_path'\n",
    "data_to_process = glob.glob(os.path.join(clip_path, '*.tif'))\n",
    "for clip_img in data_to_process:\n",
    "    img = gdal.Open(clip_img)\n",
    "    band = img.GetRasterBand(4)\n",
    "    img_array = band.ReadAsArray()\n",
    "    if 0 in img_array:\n",
    "        os.remove(clip_img)\n",
    "        print('Deleted ' + clip_img)"
   ]
  },
  {
   "cell_type": "code",
   "execution_count": null,
   "id": "901781fb",
   "metadata": {},
   "outputs": [],
   "source": [
    "# Plot an image to test\n",
    "from matplotlib import pyplot as plt\n",
    "def load_geotiff(file):\n",
    "    ds = gdal.Open(file)\n",
    "    band1 = ds.GetRasterBand(1).ReadAsArray() # Red channel\n",
    "    band2 = ds.GetRasterBand(2).ReadAsArray() # Green channel\n",
    "    band3 = ds.GetRasterBand(3).ReadAsArray() # Blue channel\n",
    "    img = np.dstack((band1, band2, band3))\n",
    "    return img\n",
    "image = load_geotiff('path_to_image')\n",
    "print(image.shape)\n",
    "plt.imshow(image)"
   ]
  }
 ],
 "metadata": {
  "kernelspec": {
   "display_name": "Python 3 (ipykernel)",
   "language": "python",
   "name": "python3"
  },
  "language_info": {
   "codemirror_mode": {
    "name": "ipython",
    "version": 3
   },
   "file_extension": ".py",
   "mimetype": "text/x-python",
   "name": "python",
   "nbconvert_exporter": "python",
   "pygments_lexer": "ipython3",
   "version": "3.10.5"
  },
  "vscode": {
   "interpreter": {
    "hash": "7e1998ff7f8aa20ada591c520b972326324e5ea05489af9e422744c7c09f6dad"
   }
  }
 },
 "nbformat": 4,
 "nbformat_minor": 5
}
