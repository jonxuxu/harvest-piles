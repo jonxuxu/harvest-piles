{
 "cells": [
  {
   "cell_type": "code",
   "execution_count": 10,
   "metadata": {},
   "outputs": [],
   "source": [
    "from osgeo import gdal #to crop tile\n",
    "import pyproj\n",
    "import numpy as np\n",
    "import pandas as pd\n",
    "import matplotlib.pyplot as plt\n",
    "import glob\n",
    "import os\n",
    "import csv\n",
    "\n",
    "# File paths to images\n",
    "from pathlib import Path"
   ]
  },
  {
   "cell_type": "code",
   "execution_count": 2,
   "metadata": {},
   "outputs": [
    {
     "name": "stdout",
     "output_type": "stream",
     "text": [
      "840\n"
     ]
    }
   ],
   "source": [
    "# Split every image into 54x54 px to create around 256x256m images\n",
    "\n",
    "planetscope_mosaic = '/Users/rjlee6/Documents/ethiopia/tigray_north/'\n",
    "# output_path = '/Users/rjlee6/Documents/ethiopia/tigray_north_256'\n",
    "\n",
    "data_to_process = glob.glob(os.path.join(planetscope_mosaic, '*.tif'))\n",
    "\n",
    "print(len(data_to_process))"
   ]
  },
  {
   "cell_type": "code",
   "execution_count": 16,
   "metadata": {},
   "outputs": [],
   "source": [
    "# Split every image into 55x55 px to create around 256x256m images\n",
    "planetscope_mosaic = '/Users/rjlee6/Documents/ethiopia/tigray_north/'\n",
    "output_path = '/Users/rjlee6/Documents/ethiopia/tigray_north_256'\n",
    "\n",
    "data_to_process = glob.glob(os.path.join(planetscope_mosaic, '*.tif'))\n",
    "tile_px = 54\n",
    "# Start 0-200 (done)\n",
    "# 200-400 (done)\n",
    "# 400-600\n",
    "# 600-840\n",
    "\n",
    "# Define the EPSG codes for the coordinate reference systems\n",
    "source_crs = pyproj.CRS('EPSG:3857')\n",
    "target_crs = pyproj.CRS('EPSG:4326')\n",
    "\n",
    "# Define a transformer object to convert coordinates from source to target CRS\n",
    "transformer = pyproj.Transformer.from_crs(source_crs, target_crs)\n",
    "\n",
    "with open('/Users/rjlee6/Documents/ethiopia/tigray_north_256_center.csv', 'w', newline='') as csvfile:\n",
    "    writer = csv.writer(csvfile)\n",
    "    writer.writerow(['filename', 'x_wgs', 'y_wgs'])\n",
    "\n",
    "    for mosaic in data_to_process:\n",
    "\n",
    "        img = gdal.Open(mosaic)\n",
    "        gt = img.GetGeoTransform()\n",
    "        # Upper left coordinates\n",
    "        xmin = gt[0]\n",
    "        ymax = gt[3]\n",
    "\n",
    "        # Resolution and division\n",
    "        res = gt[1]\n",
    "        tile_size = res * tile_px\n",
    "        num_x = int(img.RasterXSize / tile_px)\n",
    "        num_y = int(img.RasterYSize / tile_px)\n",
    "\n",
    "        xsteps = [xmin + tile_size * i for i in range(num_x+1)]\n",
    "        ysteps = [ymax - tile_size * i for i in range(num_y+1)]\n",
    "\n",
    "        for i in range(num_x):\n",
    "            for j in range(num_y):\n",
    "                xmin = xsteps[i]\n",
    "                xmax = xsteps[i+1]\n",
    "                ymax = ysteps[j]\n",
    "                ymin = ysteps[j+1]\n",
    "                center_x = (xmin + xmax) / 2\n",
    "                center_y = (ymin + ymax) / 2\n",
    "\n",
    "                # Transform the center coordinates to WGS84\n",
    "                x_wgs, y_wgs = transformer.transform(center_x, center_y)\n",
    "                # Create and save the subsetted image\n",
    "                # filename = output_path + mosaic[45:-4] + '_' + str(i).zfill(2) + str(j).zfill(2) + '.tif'\n",
    "                filename = mosaic[46:-4] + '_' + str(i).zfill(2) + str(j).zfill(2) + '.tif'\n",
    "\n",
    "                writer.writerow([filename, x_wgs, y_wgs])\n",
    "        \n",
    "                # raster = gdal.Warp(filename, img, outputBounds=(xmin,ymin,xmax,ymax))\n",
    "                # print(filename)"
   ]
  },
  {
   "cell_type": "code",
   "execution_count": 8,
   "metadata": {},
   "outputs": [
    {
     "name": "stdout",
     "output_type": "stream",
     "text": [
      "840\n"
     ]
    }
   ],
   "source": [
    "# Check the length of tigray_north_256\n",
    "path_256 = '/Users/rjlee6/Documents/ethiopia/tigray_north_256/'\n",
    "data_to_process = glob.glob(os.path.join(path_256, '*.tif'))\n",
    "print(len(data_to_process))"
   ]
  },
  {
   "cell_type": "code",
   "execution_count": null,
   "metadata": {},
   "outputs": [],
   "source": [
    "# Delete all images that don't contain full image (from skysat collect)\n",
    "clip_path = '/Users/rjlee6/Documents/ethiopia/tigray_north_256'\n",
    "data_to_process = glob.glob(os.path.join(clip_path, '*.tif'))\n",
    "for clip_img in data_to_process[0:100]:\n",
    "    img = gdal.Open(clip_img)\n",
    "    band = img.GetRasterBand(4)\n",
    "    img_array = band.ReadAsArray()\n",
    "    if 0 in img_array:\n",
    "        os.remove(clip_img)\n",
    "        print('Deleted ' + clip_img)"
   ]
  },
  {
   "cell_type": "code",
   "execution_count": null,
   "metadata": {},
   "outputs": [],
   "source": [
    "# Test and see the dimensions of a skysat_loc planetscope image\n",
    "test_planetscope_img = '/Users/rjlee6/Documents/ethiopia/tigray_north_clip/1_2021_01_L15-1234E-1104N_0000.tif'\n",
    "test = gdal.Open(test_planetscope_img)\n",
    "\n",
    "print(test.GetGeoTransform())\n",
    "\n",
    "def load_geotiff(file):\n",
    "    ds = gdal.Open(file)\n",
    "    band1 = ds.GetRasterBand(1).ReadAsArray() # Red channel\n",
    "    band2 = ds.GetRasterBand(2).ReadAsArray() # Green channel\n",
    "    band3 = ds.GetRasterBand(3).ReadAsArray() # Blue channel\n",
    "    img = np.dstack((band1, band2, band3))\n",
    "    return img\n",
    "image = load_geotiff(test_planetscope_img)\n",
    "print(image.shape)\n",
    "plt.imshow(image)"
   ]
  },
  {
   "cell_type": "code",
   "execution_count": null,
   "metadata": {},
   "outputs": [],
   "source": [
    "# Test and see the dimensions of a skysat_loc planetscope image\n",
    "test_planetscope_img = '/Users/rjlee6/Downloads/20201101_074640_ssc2_u0001_visual_clip_01_0101.tiff'\n",
    "test = gdal.Open(test_planetscope_img)\n",
    "\n",
    "print(test.GetGeoTransform())\n",
    "\n",
    "def load_geotiff(file):\n",
    "    ds = gdal.Open(file)\n",
    "    band1 = ds.GetRasterBand(1).ReadAsArray() # Red channel\n",
    "    band2 = ds.GetRasterBand(2).ReadAsArray() # Green channel\n",
    "    band3 = ds.GetRasterBand(3).ReadAsArray() # Blue channel\n",
    "    img = np.dstack((band1, band2, band3))\n",
    "    return img\n",
    "image = load_geotiff(test_planetscope_img)\n",
    "print(image.shape)\n",
    "plt.imshow(image)"
   ]
  }
 ],
 "metadata": {
  "kernelspec": {
   "display_name": "Python 3 (ipykernel)",
   "language": "python",
   "name": "python3"
  },
  "language_info": {
   "codemirror_mode": {
    "name": "ipython",
    "version": 3
   },
   "file_extension": ".py",
   "mimetype": "text/x-python",
   "name": "python",
   "nbconvert_exporter": "python",
   "pygments_lexer": "ipython3",
   "version": "3.10.5"
  },
  "vscode": {
   "interpreter": {
    "hash": "7e1998ff7f8aa20ada591c520b972326324e5ea05489af9e422744c7c09f6dad"
   }
  }
 },
 "nbformat": 4,
 "nbformat_minor": 2
}
