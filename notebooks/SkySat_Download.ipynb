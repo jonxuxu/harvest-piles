{
 "cells": [
  {
   "cell_type": "code",
   "execution_count": null,
   "metadata": {},
   "outputs": [],
   "source": [
    "\"\"\"Script to download SkySat assets. Use with caution, make sure \n",
    "you stay within the download rate range available. \n",
    "Script adapted from https://github.com/planetlabs/planet-client-python/blob/main/examples/data_download_multiple_assets.py\n",
    "\"\"\"\n",
    "import asyncio\n",
    "import nest_asyncio\n",
    "nest_asyncio.apply()\n",
    "import shutil\n",
    "from planet import exceptions, Session\n",
    "import httpx\n",
    "import os"
   ]
  },
  {
   "cell_type": "code",
   "execution_count": null,
   "metadata": {},
   "outputs": [],
   "source": [
    "# Example Skysat assets\n",
    "amhara_ids = ['20221222_065703_ss02_u0001', '20221004_111044_ssc6_u0002']"
   ]
  },
  {
   "cell_type": "code",
   "execution_count": null,
   "metadata": {},
   "outputs": [],
   "source": [
    "asset_ids = amhara_ids\n",
    "item_type = 'SkySatCollect'\n",
    "asset_type = 'ortho_visual'\n",
    "\n",
    "\n",
    "async def download_and_validate(client, item_id, item_type_id, asset_type_id):\n",
    "    \"\"\"Activate, download, and validate an asset as a single task.\"\"\"\n",
    "    # Get asset description\n",
    "    asset = await client.get_asset(item_type_id, item_id, asset_type_id)\n",
    "\n",
    "    # Activate asset\n",
    "    await client.activate_asset(asset)\n",
    "\n",
    "    # Wait for asset to become active\n",
    "    asset = await client.wait_asset(asset, callback=print)\n",
    "    # Download asset\n",
    "    path = await client.download_asset(asset)\n",
    "\n",
    "    # Move images to new directory\n",
    "    new_path = 'new_path' / path\n",
    "    shutil.move(path, new_path)\n",
    "\n",
    "async def main():\n",
    "    \"\"\"Download and validate assets in parallel.\"\"\"\n",
    "    concurrency = 10 # Set the number of concurrent tasks\n",
    "    max_retries = 3 # Set the maximum number of retries for failed tasks\n",
    "    retry_exceptions = [\n",
    "        httpx.ConnectError,\n",
    "        httpx.ReadError,\n",
    "        httpx.ReadTimeout,\n",
    "        httpx.RemoteProtocolError,\n",
    "        exceptions.BadGateway,\n",
    "        exceptions.TooManyRequests\n",
    "    ]\n",
    "    \n",
    "    async with Session() as sess:\n",
    "        client = sess.client('data')\n",
    "        sem = asyncio.Semaphore(concurrency) # Create a semaphore object\n",
    "        tasks = [] # Create an empty list to store the tasks\n",
    "        \n",
    "        for img in asset_ids:\n",
    "            # Acquire the semaphore to limit the number of concurrent tasks\n",
    "            async with sem:\n",
    "                # Create a new task and add it to the list of tasks\n",
    "                task = asyncio.create_task(download_and_validate(client,\n",
    "                                                                  img,\n",
    "                                                                  item_type,\n",
    "                                                                  asset_type))\n",
    "                tasks.append(task)\n",
    "                \n",
    "        # Wait for all tasks to complete\n",
    "        results = await asyncio.gather(*tasks, return_exceptions=True)\n",
    "        \n",
    "        # Retry failed tasks\n",
    "        retry_tasks = []\n",
    "        for i, result in enumerate(results):\n",
    "            if isinstance(result, Exception) and isinstance(result, tuple(retry_exceptions)):\n",
    "                retries = 0\n",
    "                while retries < max_retries:\n",
    "                    print(f\"Retrying task {i} ({retries + 1}/{max_retries})...\")\n",
    "                    async with sem:\n",
    "                        task = asyncio.create_task(download_and_validate(client,\n",
    "                                                                          asset_ids[i],\n",
    "                                                                          item_type,\n",
    "                                                                          asset_type))\n",
    "                        try:\n",
    "                            result = await task\n",
    "                            break\n",
    "                        except Exception as e:\n",
    "                            if isinstance(e, tuple(retry_exceptions)):\n",
    "                                retries += 1\n",
    "                            else:\n",
    "                                raise\n",
    "                if isinstance(result, Exception):\n",
    "                    print(f\"Task {i} failed after {max_retries} retries: {result}\")\n",
    "                else:\n",
    "                    print(f\"Task {i} succeeded after {retries + 1} retries.\")\n",
    "        print(\"All tasks completed.\")\n",
    "\n",
    "if __name__ == '__main__':\n",
    "    asyncio.run(main())"
   ]
  }
 ],
 "metadata": {
  "kernelspec": {
   "display_name": "Python 3 (ipykernel)",
   "language": "python",
   "name": "python3"
  },
  "language_info": {
   "codemirror_mode": {
    "name": "ipython",
    "version": 3
   },
   "file_extension": ".py",
   "mimetype": "text/x-python",
   "name": "python",
   "nbconvert_exporter": "python",
   "pygments_lexer": "ipython3",
   "version": "3.10.5"
  },
  "vscode": {
   "interpreter": {
    "hash": "7e1998ff7f8aa20ada591c520b972326324e5ea05489af9e422744c7c09f6dad"
   }
  }
 },
 "nbformat": 4,
 "nbformat_minor": 2
}
