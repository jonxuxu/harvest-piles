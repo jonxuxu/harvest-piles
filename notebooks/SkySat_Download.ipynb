{
 "cells": [
  {
   "cell_type": "code",
   "execution_count": 1,
   "metadata": {},
   "outputs": [],
   "source": [
    "\"\"\"Script to download SkySat assets. Use with caution, make sure \n",
    "you stay within the download rate range available. \n",
    "Script adapted from https://github.com/planetlabs/planet-client-python/blob/main/examples/data_download_multiple_assets.py\n",
    "\"\"\"\n",
    "import asyncio\n",
    "import nest_asyncio\n",
    "nest_asyncio.apply()\n",
    "import shutil\n",
    "from planet import exceptions, Session\n",
    "import httpx\n",
    "import os"
   ]
  },
  {
   "cell_type": "code",
   "execution_count": 28,
   "metadata": {},
   "outputs": [],
   "source": [
    "# Example Skysat assets\n",
    "amhara_ids = ['20221222_065703_ss02_u0001', '20221004_111044_ssc6_u0002']"
   ]
  },
  {
   "cell_type": "code",
   "execution_count": 29,
   "metadata": {
    "collapsed": true
   },
   "outputs": [
    {
     "name": "stdout",
     "output_type": "stream",
     "text": [
      "active\n",
      "inactive\n"
     ]
    },
    {
     "name": "stderr",
     "output_type": "stream",
     "text": [
      "20221004_111044_ssc6_u0002_visual.tif:  34%|███▍      | 117k/340k [00:05<00:12, 19.1MB/s] "
     ]
    },
    {
     "name": "stdout",
     "output_type": "stream",
     "text": [
      "activating\n"
     ]
    },
    {
     "name": "stderr",
     "output_type": "stream",
     "text": [
      "20221004_111044_ssc6_u0002_visual.tif:  66%|██████▌   | 224k/340k [00:10<00:04, 29.0MB/s]"
     ]
    },
    {
     "name": "stdout",
     "output_type": "stream",
     "text": [
      "activating\n"
     ]
    },
    {
     "name": "stderr",
     "output_type": "stream",
     "text": [
      "20221004_111044_ssc6_u0002_visual.tif: 100%|██████████| 340k/340k [00:14<00:00, 24.3MB/s]\n"
     ]
    },
    {
     "name": "stdout",
     "output_type": "stream",
     "text": [
      "activating\n",
      "activating\n",
      "activating\n",
      "activating\n",
      "activating\n",
      "activating\n",
      "activating\n",
      "activating\n",
      "activating\n",
      "activating\n",
      "activating\n",
      "activating\n",
      "activating\n",
      "activating\n",
      "activating\n",
      "activating\n",
      "activating\n",
      "activating\n",
      "activating\n"
     ]
    },
    {
     "ename": "KeyboardInterrupt",
     "evalue": "",
     "output_type": "error",
     "traceback": [
      "\u001b[0;31m---------------------------------------------------------------------------\u001b[0m",
      "\u001b[0;31mKeyboardInterrupt\u001b[0m                         Traceback (most recent call last)",
      "\u001b[1;32m/Users/rjlee6/Documents/ethiopia/code/skysat_asset_download.ipynb Cell 4\u001b[0m in \u001b[0;36m8\n\u001b[1;32m     <a href='vscode-notebook-cell:/Users/rjlee6/Documents/ethiopia/code/skysat_asset_download.ipynb#W3sZmlsZQ%3D%3D?line=79'>80</a>\u001b[0m         \u001b[39mprint\u001b[39m(\u001b[39m\"\u001b[39m\u001b[39mAll tasks completed.\u001b[39m\u001b[39m\"\u001b[39m)\n\u001b[1;32m     <a href='vscode-notebook-cell:/Users/rjlee6/Documents/ethiopia/code/skysat_asset_download.ipynb#W3sZmlsZQ%3D%3D?line=81'>82</a>\u001b[0m \u001b[39mif\u001b[39;00m \u001b[39m__name__\u001b[39m \u001b[39m==\u001b[39m \u001b[39m'\u001b[39m\u001b[39m__main__\u001b[39m\u001b[39m'\u001b[39m:\n\u001b[0;32m---> <a href='vscode-notebook-cell:/Users/rjlee6/Documents/ethiopia/code/skysat_asset_download.ipynb#W3sZmlsZQ%3D%3D?line=82'>83</a>\u001b[0m     asyncio\u001b[39m.\u001b[39;49mrun(main())\n",
      "File \u001b[0;32m~/Library/Python/3.10/lib/python/site-packages/nest_asyncio.py:35\u001b[0m, in \u001b[0;36m_patch_asyncio.<locals>.run\u001b[0;34m(main, debug)\u001b[0m\n\u001b[1;32m     33\u001b[0m task \u001b[39m=\u001b[39m asyncio\u001b[39m.\u001b[39mensure_future(main)\n\u001b[1;32m     34\u001b[0m \u001b[39mtry\u001b[39;00m:\n\u001b[0;32m---> 35\u001b[0m     \u001b[39mreturn\u001b[39;00m loop\u001b[39m.\u001b[39;49mrun_until_complete(task)\n\u001b[1;32m     36\u001b[0m \u001b[39mfinally\u001b[39;00m:\n\u001b[1;32m     37\u001b[0m     \u001b[39mif\u001b[39;00m \u001b[39mnot\u001b[39;00m task\u001b[39m.\u001b[39mdone():\n",
      "File \u001b[0;32m~/Library/Python/3.10/lib/python/site-packages/nest_asyncio.py:84\u001b[0m, in \u001b[0;36m_patch_loop.<locals>.run_until_complete\u001b[0;34m(self, future)\u001b[0m\n\u001b[1;32m     82\u001b[0m     f\u001b[39m.\u001b[39m_log_destroy_pending \u001b[39m=\u001b[39m \u001b[39mFalse\u001b[39;00m\n\u001b[1;32m     83\u001b[0m \u001b[39mwhile\u001b[39;00m \u001b[39mnot\u001b[39;00m f\u001b[39m.\u001b[39mdone():\n\u001b[0;32m---> 84\u001b[0m     \u001b[39mself\u001b[39;49m\u001b[39m.\u001b[39;49m_run_once()\n\u001b[1;32m     85\u001b[0m     \u001b[39mif\u001b[39;00m \u001b[39mself\u001b[39m\u001b[39m.\u001b[39m_stopping:\n\u001b[1;32m     86\u001b[0m         \u001b[39mbreak\u001b[39;00m\n",
      "File \u001b[0;32m~/Library/Python/3.10/lib/python/site-packages/nest_asyncio.py:107\u001b[0m, in \u001b[0;36m_patch_loop.<locals>._run_once\u001b[0;34m(self)\u001b[0m\n\u001b[1;32m    100\u001b[0m     heappop(scheduled)\n\u001b[1;32m    102\u001b[0m timeout \u001b[39m=\u001b[39m (\n\u001b[1;32m    103\u001b[0m     \u001b[39m0\u001b[39m \u001b[39mif\u001b[39;00m ready \u001b[39mor\u001b[39;00m \u001b[39mself\u001b[39m\u001b[39m.\u001b[39m_stopping\n\u001b[1;32m    104\u001b[0m     \u001b[39melse\u001b[39;00m \u001b[39mmin\u001b[39m(\u001b[39mmax\u001b[39m(\n\u001b[1;32m    105\u001b[0m         scheduled[\u001b[39m0\u001b[39m]\u001b[39m.\u001b[39m_when \u001b[39m-\u001b[39m \u001b[39mself\u001b[39m\u001b[39m.\u001b[39mtime(), \u001b[39m0\u001b[39m), \u001b[39m86400\u001b[39m) \u001b[39mif\u001b[39;00m scheduled\n\u001b[1;32m    106\u001b[0m     \u001b[39melse\u001b[39;00m \u001b[39mNone\u001b[39;00m)\n\u001b[0;32m--> 107\u001b[0m event_list \u001b[39m=\u001b[39m \u001b[39mself\u001b[39;49m\u001b[39m.\u001b[39;49m_selector\u001b[39m.\u001b[39;49mselect(timeout)\n\u001b[1;32m    108\u001b[0m \u001b[39mself\u001b[39m\u001b[39m.\u001b[39m_process_events(event_list)\n\u001b[1;32m    110\u001b[0m end_time \u001b[39m=\u001b[39m \u001b[39mself\u001b[39m\u001b[39m.\u001b[39mtime() \u001b[39m+\u001b[39m \u001b[39mself\u001b[39m\u001b[39m.\u001b[39m_clock_resolution\n",
      "File \u001b[0;32m/Library/Frameworks/Python.framework/Versions/3.10/lib/python3.10/selectors.py:562\u001b[0m, in \u001b[0;36mKqueueSelector.select\u001b[0;34m(self, timeout)\u001b[0m\n\u001b[1;32m    560\u001b[0m ready \u001b[39m=\u001b[39m []\n\u001b[1;32m    561\u001b[0m \u001b[39mtry\u001b[39;00m:\n\u001b[0;32m--> 562\u001b[0m     kev_list \u001b[39m=\u001b[39m \u001b[39mself\u001b[39;49m\u001b[39m.\u001b[39;49m_selector\u001b[39m.\u001b[39;49mcontrol(\u001b[39mNone\u001b[39;49;00m, max_ev, timeout)\n\u001b[1;32m    563\u001b[0m \u001b[39mexcept\u001b[39;00m \u001b[39mInterruptedError\u001b[39;00m:\n\u001b[1;32m    564\u001b[0m     \u001b[39mreturn\u001b[39;00m ready\n",
      "\u001b[0;31mKeyboardInterrupt\u001b[0m: "
     ]
    }
   ],
   "source": [
    "asset_ids = amhara_ids\n",
    "item_type = 'SkySatCollect'\n",
    "asset_type = 'ortho_visual'\n",
    "\n",
    "\n",
    "async def download_and_validate(client, item_id, item_type_id, asset_type_id):\n",
    "    \"\"\"Activate, download, and validate an asset as a single task.\"\"\"\n",
    "    # Get asset description\n",
    "    asset = await client.get_asset(item_type_id, item_id, asset_type_id)\n",
    "\n",
    "    # Activate asset\n",
    "    await client.activate_asset(asset)\n",
    "\n",
    "    # Wait for asset to become active\n",
    "    asset = await client.wait_asset(asset, callback=print)\n",
    "    # Download asset\n",
    "    path = await client.download_asset(asset)\n",
    "\n",
    "    # Move images to new directory\n",
    "    new_path = 'new_path' / path\n",
    "    shutil.move(path, new_path)\n",
    "\n",
    "async def main():\n",
    "    \"\"\"Download and validate assets in parallel.\"\"\"\n",
    "    concurrency = 10 # Set the number of concurrent tasks\n",
    "    max_retries = 3 # Set the maximum number of retries for failed tasks\n",
    "    retry_exceptions = [\n",
    "        httpx.ConnectError,\n",
    "        httpx.ReadError,\n",
    "        httpx.ReadTimeout,\n",
    "        httpx.RemoteProtocolError,\n",
    "        exceptions.BadGateway,\n",
    "        exceptions.TooManyRequests\n",
    "    ]\n",
    "    \n",
    "    async with Session() as sess:\n",
    "        client = sess.client('data')\n",
    "        sem = asyncio.Semaphore(concurrency) # Create a semaphore object\n",
    "        tasks = [] # Create an empty list to store the tasks\n",
    "        \n",
    "        for img in asset_ids:\n",
    "            # Acquire the semaphore to limit the number of concurrent tasks\n",
    "            async with sem:\n",
    "                # Create a new task and add it to the list of tasks\n",
    "                task = asyncio.create_task(download_and_validate(client,\n",
    "                                                                  img,\n",
    "                                                                  item_type,\n",
    "                                                                  asset_type))\n",
    "                tasks.append(task)\n",
    "                \n",
    "        # Wait for all tasks to complete\n",
    "        results = await asyncio.gather(*tasks, return_exceptions=True)\n",
    "        \n",
    "        # Retry failed tasks\n",
    "        retry_tasks = []\n",
    "        for i, result in enumerate(results):\n",
    "            if isinstance(result, Exception) and isinstance(result, tuple(retry_exceptions)):\n",
    "                retries = 0\n",
    "                while retries < max_retries:\n",
    "                    print(f\"Retrying task {i} ({retries + 1}/{max_retries})...\")\n",
    "                    async with sem:\n",
    "                        task = asyncio.create_task(download_and_validate(client,\n",
    "                                                                          asset_ids[i],\n",
    "                                                                          item_type,\n",
    "                                                                          asset_type))\n",
    "                        try:\n",
    "                            result = await task\n",
    "                            break\n",
    "                        except Exception as e:\n",
    "                            if isinstance(e, tuple(retry_exceptions)):\n",
    "                                retries += 1\n",
    "                            else:\n",
    "                                raise\n",
    "                if isinstance(result, Exception):\n",
    "                    print(f\"Task {i} failed after {max_retries} retries: {result}\")\n",
    "                else:\n",
    "                    print(f\"Task {i} succeeded after {retries + 1} retries.\")\n",
    "        print(\"All tasks completed.\")\n",
    "\n",
    "if __name__ == '__main__':\n",
    "    asyncio.run(main())"
   ]
  }
 ],
 "metadata": {
  "kernelspec": {
   "display_name": "Python 3 (ipykernel)",
   "language": "python",
   "name": "python3"
  },
  "language_info": {
   "codemirror_mode": {
    "name": "ipython",
    "version": 3
   },
   "file_extension": ".py",
   "mimetype": "text/x-python",
   "name": "python",
   "nbconvert_exporter": "python",
   "pygments_lexer": "ipython3",
   "version": "3.10.5"
  },
  "vscode": {
   "interpreter": {
    "hash": "7e1998ff7f8aa20ada591c520b972326324e5ea05489af9e422744c7c09f6dad"
   }
  }
 },
 "nbformat": 4,
 "nbformat_minor": 2
}
