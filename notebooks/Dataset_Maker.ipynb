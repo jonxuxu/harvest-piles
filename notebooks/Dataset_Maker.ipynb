{
 "cells": [
  {
   "cell_type": "markdown",
   "metadata": {
    "id": "cHcCid_DNP65"
   },
   "source": [
    "Given a folder of images, creates a proper CSV dataset. Info about lat, long, elevation"
   ]
  },
  {
   "cell_type": "code",
   "execution_count": null,
   "metadata": {
    "id": "QFgeCRRMNOc0"
   },
   "outputs": [],
   "source": [
    "# Import necessary packages\n",
    "import os\n",
    "import csv\n",
    "import pandas as pd\n",
    "\n",
    "from google.colab import drive, auth\n",
    "auth.authenticate_user()"
   ]
  },
  {
   "cell_type": "code",
   "execution_count": null,
   "metadata": {
    "colab": {
     "base_uri": "https://localhost:8080/"
    },
    "id": "u-BJjrvcN0Vv",
    "outputId": "63903644-4ba6-48aa-a4c5-cad965c09989"
   },
   "outputs": [
    {
     "name": "stdout",
     "output_type": "stream",
     "text": [
      "Mounted at /content/drive\n"
     ]
    }
   ],
   "source": [
    "# Load the Drive helper and mount\n",
    "\n",
    "# This will prompt for authorization.\n",
    "drive.mount('/content/drive')\n",
    "\n",
    "PROJECT_PATH = \"/content/drive/MyDrive/Projects/Harvest Pile/ethiopia/skysat dataset\" #jonathan\n",
    "# PROJECT_PATH = \"/content/drive/MyDrive/ethiopia/skysat dataset\" #jonathan 2\n",
    "# PROJECT_PATH = \"/content/drive/MyDrive/ethiopia/skysat dataset\" #richard"
   ]
  },
  {
   "cell_type": "code",
   "execution_count": null,
   "metadata": {
    "colab": {
     "base_uri": "https://localhost:8080/"
    },
    "id": "rGDuhVom2d-L",
    "outputId": "f65f43e8-fa94-4be6-e229-e50206dffe9a"
   },
   "outputs": [
    {
     "name": "stdout",
     "output_type": "stream",
     "text": [
      "Updated property [core/project].\n",
      "gs://es262-brazil-trafficking/\n",
      "gs://es262-buildings_sentinel/\n",
      "gs://es262-harvest-piles/\n",
      "gs://es262-kilns-gen/\n",
      "gs://es262-models/\n",
      "gs://es262-orchards-forests/\n",
      "gs://es262-pop-density/\n",
      "gs://es262-poverty/\n",
      "gs://es262-roadtype/\n",
      "gs://open_street_maps_data/\n",
      "gs://sustainlab-common/\n",
      "gs://sustainlab-dhs/\n",
      "gs://sustainlab-poverty-export/\n"
     ]
    }
   ],
   "source": [
    "from google.colab import auth\n",
    "auth.authenticate_user()\n",
    "\n",
    "project_id = 'earth-sys262cs325b'\n",
    "!gcloud config set project {project_id}\n",
    "!gsutil ls\n"
   ]
  },
  {
   "cell_type": "code",
   "execution_count": null,
   "metadata": {
    "colab": {
     "base_uri": "https://localhost:8080/"
    },
    "id": "1VcAflBdvMVQ",
    "outputId": "20d1a3cc-9b3e-4abd-c460-cee553b3a4a2"
   },
   "outputs": [
    {
     "name": "stdout",
     "output_type": "stream",
     "text": [
      "deb http://packages.cloud.google.com/apt gcsfuse-bionic main\n",
      "  % Total    % Received % Xferd  Average Speed   Time    Time     Time  Current\n",
      "                                 Dload  Upload   Total   Spent    Left  Speed\n",
      "  0     0    0     0    0     0      0      0 --:--:-- --:--:-- --:--:--     0Warning: apt-key is deprecated. Manage keyring files in trusted.gpg.d instead (see apt-key(8)).\n",
      "100  2659  100  2659    0     0  10138      0 --:--:-- --:--:-- --:--:-- 10148\n",
      "OK\n",
      "Get:1 http://packages.cloud.google.com/apt gcsfuse-bionic InRelease [5,004 B]\n",
      "Hit:2 https://developer.download.nvidia.com/compute/cuda/repos/ubuntu2204/x86_64  InRelease\n",
      "Hit:3 http://archive.ubuntu.com/ubuntu jammy InRelease\n",
      "Hit:4 http://archive.ubuntu.com/ubuntu jammy-updates InRelease\n",
      "Hit:5 http://security.ubuntu.com/ubuntu jammy-security InRelease\n",
      "Hit:6 http://archive.ubuntu.com/ubuntu jammy-backports InRelease\n",
      "Hit:7 https://ppa.launchpadcontent.net/deadsnakes/ppa/ubuntu jammy InRelease\n",
      "Hit:8 https://ppa.launchpadcontent.net/graphics-drivers/ppa/ubuntu jammy InRelease\n",
      "Hit:9 https://ppa.launchpadcontent.net/ubuntugis/ppa/ubuntu jammy InRelease\n",
      "Fetched 5,004 B in 2s (2,432 B/s)\n",
      "Reading package lists... Done\n",
      "W: http://packages.cloud.google.com/apt/dists/gcsfuse-bionic/InRelease: Key is stored in legacy trusted.gpg keyring (/etc/apt/trusted.gpg), see the DEPRECATION section in apt-key(8) for details.\n",
      "Reading package lists... Done\n",
      "Building dependency tree... Done\n",
      "Reading state information... Done\n",
      "gcsfuse is already the newest version (1.0.0).\n",
      "0 upgraded, 0 newly installed, 0 to remove and 8 not upgraded.\n",
      "mkdir: cannot create directory ‘/content/drive/MyDrive/ethiopia/skysat dataset/amhara_skysat_all_clip_gcp’: File exists\n",
      "I0721 18:44:47.775208 2023/07/21 18:44:47.774893 Start gcsfuse/1.0.0 (Go version go1.20.4) for app \"\" using mount point: /content/drive/MyDrive/ethiopia/skysat dataset/amhara_skysat_all_clip_gcp\n"
     ]
    }
   ],
   "source": [
    "# Mount gcp directory to google colab - Richard\n",
    "!echo \"deb http://packages.cloud.google.com/apt gcsfuse-bionic main\" | sudo tee /etc/apt/sources.list.d/gcsfuse.list\n",
    "\n",
    "!curl https://packages.cloud.google.com/apt/doc/apt-key.gpg | sudo apt-key add -\n",
    "!sudo apt-get update\n",
    "\n",
    "!sudo apt-get install gcsfuse\n",
    "\n",
    "!mkdir \"/content/drive/MyDrive/ethiopia/skysat dataset/amhara_skysat_all_clip_gcp\"\n",
    "\n",
    "!gcsfuse --only-dir amhara_skysat_all_clip/ es262-harvest-piles \"/content/drive/MyDrive/ethiopia/skysat dataset/amhara_skysat_all_clip_gcp\"\n",
    "\n"
   ]
  },
  {
   "cell_type": "code",
   "execution_count": null,
   "metadata": {
    "colab": {
     "base_uri": "https://localhost:8080/"
    },
    "id": "S0cL_Q6SwMW-",
    "outputId": "2c231bad-267f-44d7-a2aa-8b564659f088"
   },
   "outputs": [
    {
     "data": {
      "text/plain": [
       "75874"
      ]
     },
     "execution_count": 4,
     "metadata": {},
     "output_type": "execute_result"
    }
   ],
   "source": [
    "len(os.listdir(\"/content/drive/MyDrive/ethiopia/skysat dataset/amhara_skysat_all_clip_gcp\"))"
   ]
  },
  {
   "cell_type": "markdown",
   "metadata": {
    "id": "GXTnY_5io6Jy"
   },
   "source": [
    "# Create CSV"
   ]
  },
  {
   "cell_type": "code",
   "execution_count": null,
   "metadata": {
    "colab": {
     "base_uri": "https://localhost:8080/"
    },
    "id": "RZKgjxnIrBy2",
    "outputId": "d677e6c7-ac0d-4beb-b4e5-4e44b8111c9f"
   },
   "outputs": [
    {
     "name": "stdout",
     "output_type": "stream",
     "text": [
      "Requirement already satisfied: pyproj in /usr/local/lib/python3.10/dist-packages (3.6.0)\n",
      "Requirement already satisfied: certifi in /usr/local/lib/python3.10/dist-packages (from pyproj) (2023.5.7)\n"
     ]
    }
   ],
   "source": [
    "!pip install pyproj"
   ]
  },
  {
   "cell_type": "code",
   "execution_count": null,
   "metadata": {
    "id": "WsPBJtI_CHSB"
   },
   "outputs": [],
   "source": [
    "from osgeo import gdal"
   ]
  },
  {
   "cell_type": "code",
   "execution_count": null,
   "metadata": {
    "id": "Bj_gLVs8o8lb"
   },
   "outputs": [],
   "source": [
    "# Get image coordinates\n",
    "def get_coordinates(f):\n",
    "  ds = gdal.Open(f)\n",
    "  gt = ds.GetGeoTransform()\n",
    "\n",
    "  # print(ds.GetProjection())\n",
    "  width = ds.RasterXSize\n",
    "  height = ds.RasterYSize\n",
    "  # print(width, height)\n",
    "\n",
    "  minx = gt[0]\n",
    "  miny = gt[3] + width*gt[4] + height*gt[5]\n",
    "  maxx = gt[0] + width*gt[1] + height*gt[2]\n",
    "  maxy = gt[3]\n",
    "\n",
    "  # Upper-left\n",
    "  lon1, lat1 = minx, maxy\n",
    "  # Bottom-right\n",
    "  lon2, lat2 = maxx, miny\n",
    "\n",
    "  return(lat1, lon1, lat2, lon2)"
   ]
  },
  {
   "cell_type": "code",
   "execution_count": null,
   "metadata": {
    "id": "oLPal_xECOgn"
   },
   "outputs": [],
   "source": [
    "df = pd.DataFrame(columns=[\"filename\", \"lat_1\", \"lon_1\", \"lat_2\", \"lon_2\", \"activity\"])"
   ]
  },
  {
   "cell_type": "code",
   "execution_count": null,
   "metadata": {
    "colab": {
     "base_uri": "https://localhost:8080/"
    },
    "id": "V9TTTuayIPIo",
    "outputId": "0fecd06c-2cc0-4897-eaf9-b83c96bd5297"
   },
   "outputs": [
    {
     "data": {
      "text/plain": [
       "677"
      ]
     },
     "execution_count": 33,
     "metadata": {},
     "output_type": "execute_result"
    }
   ],
   "source": [
    "image_folder = os.path.join(PROJECT_PATH, \"amhara_skysat_clip_train\")\n",
    "len(os.listdir(image_folder))"
   ]
  },
  {
   "cell_type": "code",
   "execution_count": null,
   "metadata": {
    "id": "UYZrV38pClCR"
   },
   "outputs": [],
   "source": [
    "count = 0\n",
    "\n",
    "for filename in os.listdir(image_folder):\n",
    "    f = os.path.join(image_folder, filename)\n",
    "    print(f)\n",
    "    break\n",
    "    try:\n",
    "      lat1, lon1, lat2, lon2 = get_coordinates(f)\n",
    "      df = pd.concat(\n",
    "          [pd.DataFrame([[os.path.join(sub_folder, filename), lat1, lon1, lat2, lon2]],\n",
    "                        columns=[\"filename\", \"lat_1\", \"lon_1\", \"lat_2\", \"lon_2\"]), df],\n",
    "          ignore_index=True)\n",
    "      count += 1\n",
    "    except Exception as e:\n",
    "      print(\"failed on \", f)\n",
    "      print(e)\n",
    "\n",
    "    if count % 100 == 0:\n",
    "      print(count)"
   ]
  },
  {
   "cell_type": "code",
   "execution_count": null,
   "metadata": {
    "id": "Dc6ZSWvF02H8"
   },
   "outputs": [],
   "source": [
    "count = 0\n",
    "\n",
    "for index, row in df.iterrows():\n",
    "  f = os.path.join(PROJECT_PATH, row[\"filename\"])\n",
    "  try:\n",
    "    if not os.path.exists(f):\n",
    "      file_name = row[\"filename\"][len(\"amhara_skysat_all_clip/\"):]\n",
    "      df.at[index, \"filename\"] = os.path.join(\"amhara_skysat_clip_train\", file_name)\n",
    "    count += 1\n",
    "  except Exception as e:\n",
    "    print(\"failed on \", f)\n",
    "    print(e)\n",
    "\n",
    "  if count % 100 == 0:\n",
    "    print(count)"
   ]
  },
  {
   "cell_type": "code",
   "execution_count": null,
   "metadata": {
    "id": "mzI0hvkmi-3M"
   },
   "outputs": [],
   "source": [
    "f = \"/content/drive/MyDrive/Projects/Harvest Pile/ethiopia/skysat dataset/amhara_skysat_all_clip/20230118_071229_ssc13_u0004_visual_1058.tif\"\n",
    "lat1, lon1, lat2, lon2 = get_coordinates(f)"
   ]
  },
  {
   "cell_type": "code",
   "execution_count": null,
   "metadata": {
    "colab": {
     "base_uri": "https://localhost:8080/"
    },
    "id": "nKHDl0TVjwrq",
    "outputId": "604b7107-87e8-4605-c758-007c51ad969e"
   },
   "outputs": [
    {
     "name": "stdout",
     "output_type": "stream",
     "text": [
      "1357607.5 563779.5 1357351.5 564035.5\n"
     ]
    }
   ],
   "source": [
    "print(lat1, lon1, lat2, lon2)"
   ]
  },
  {
   "cell_type": "code",
   "execution_count": null,
   "metadata": {
    "colab": {
     "base_uri": "https://localhost:8080/"
    },
    "id": "gudwLbxdr6v5",
    "outputId": "69ed21b8-c378-4a6a-e905-373d268c0752"
   },
   "outputs": [
    {
     "name": "stdout",
     "output_type": "stream",
     "text": [
      "100\n",
      "200\n",
      "300\n",
      "400\n",
      "500\n",
      "600\n"
     ]
    }
   ],
   "source": [
    "import math\n",
    "count = 0\n",
    "\n",
    "for index, row in df.iterrows():\n",
    "  f = os.path.join(PROJECT_PATH, \"amhara_labelled\", row[\"filename\"])\n",
    "  try:\n",
    "    lat1, lon1, lat2, lon2 = get_coordinates(f)\n",
    "    df.at[index, \"lat_1\"] = lat1\n",
    "    df.at[index, \"lon_1\"] = lon1\n",
    "    df.at[index, \"lat_2\"] = lat2\n",
    "    df.at[index, \"lon_2\"] = lon2\n",
    "\n",
    "  except Exception as e:\n",
    "    print(\"failed on \", f)\n",
    "    print(e)\n",
    "\n",
    "  count += 1\n",
    "  if count % 100 == 0:\n",
    "    print(count)"
   ]
  },
  {
   "cell_type": "code",
   "execution_count": null,
   "metadata": {
    "id": "AHtjd_U8XaDM"
   },
   "outputs": [],
   "source": [
    "df[df['filename'].str.startswith('amhara_skysat_clip_train')]"
   ]
  },
  {
   "cell_type": "code",
   "execution_count": null,
   "metadata": {
    "id": "VK_YXyMnzWN1"
   },
   "outputs": [],
   "source": [
    "labelled_df = df[df[\"activity\"].notna()]"
   ]
  },
  {
   "cell_type": "code",
   "execution_count": null,
   "metadata": {
    "colab": {
     "base_uri": "https://localhost:8080/",
     "height": 463
    },
    "id": "7qZVszU5zsBD",
    "outputId": "8ce28cf9-20f1-4535-ca94-0bca0f2f68a6"
   },
   "outputs": [
    {
     "data": {
      "text/html": [
       "\n",
       "\n",
       "  <div id=\"df-43be1daf-9786-4b17-bb92-ca8dcb9c853c\">\n",
       "    <div class=\"colab-df-container\">\n",
       "      <div>\n",
       "<style scoped>\n",
       "    .dataframe tbody tr th:only-of-type {\n",
       "        vertical-align: middle;\n",
       "    }\n",
       "\n",
       "    .dataframe tbody tr th {\n",
       "        vertical-align: top;\n",
       "    }\n",
       "\n",
       "    .dataframe thead th {\n",
       "        text-align: right;\n",
       "    }\n",
       "</style>\n",
       "<table border=\"1\" class=\"dataframe\">\n",
       "  <thead>\n",
       "    <tr style=\"text-align: right;\">\n",
       "      <th></th>\n",
       "      <th>filename</th>\n",
       "      <th>lon_1</th>\n",
       "      <th>lat_1</th>\n",
       "      <th>lon_2</th>\n",
       "      <th>lat_2</th>\n",
       "      <th>activity</th>\n",
       "      <th>lat_mean</th>\n",
       "      <th>lon_mean</th>\n",
       "      <th>year</th>\n",
       "      <th>month</th>\n",
       "      <th>day</th>\n",
       "    </tr>\n",
       "  </thead>\n",
       "  <tbody>\n",
       "    <tr>\n",
       "      <th>26</th>\n",
       "      <td>20230116_072932_ss01_u0001_visual_1941.tif</td>\n",
       "      <td>38.806172</td>\n",
       "      <td>8.982793</td>\n",
       "      <td>38.808502</td>\n",
       "      <td>8.980479</td>\n",
       "      <td>0.0</td>\n",
       "      <td>992827.5</td>\n",
       "      <td>478822.5</td>\n",
       "      <td>2023</td>\n",
       "      <td>1</td>\n",
       "      <td>16</td>\n",
       "    </tr>\n",
       "    <tr>\n",
       "      <th>165</th>\n",
       "      <td>20221130_075418_ssc1_u0001_visual_0432.tif</td>\n",
       "      <td>38.963336</td>\n",
       "      <td>11.982696</td>\n",
       "      <td>38.965687</td>\n",
       "      <td>11.980382</td>\n",
       "      <td>1.0</td>\n",
       "      <td>1324512.5</td>\n",
       "      <td>496136.5</td>\n",
       "      <td>2022</td>\n",
       "      <td>11</td>\n",
       "      <td>30</td>\n",
       "    </tr>\n",
       "    <tr>\n",
       "      <th>262</th>\n",
       "      <td>20221130_075418_ssc1_u0001_visual_1740.tif</td>\n",
       "      <td>38.993906</td>\n",
       "      <td>11.964178</td>\n",
       "      <td>38.996257</td>\n",
       "      <td>11.961863</td>\n",
       "      <td>1.0</td>\n",
       "      <td>1322464.5</td>\n",
       "      <td>499464.5</td>\n",
       "      <td>2022</td>\n",
       "      <td>11</td>\n",
       "      <td>30</td>\n",
       "    </tr>\n",
       "    <tr>\n",
       "      <th>334</th>\n",
       "      <td>20221119_080913_ssc1_u0001_visual_0220.tif</td>\n",
       "      <td>37.292682</td>\n",
       "      <td>11.635510</td>\n",
       "      <td>37.295044</td>\n",
       "      <td>11.633210</td>\n",
       "      <td>0.0</td>\n",
       "      <td>1286681.0</td>\n",
       "      <td>313999.5</td>\n",
       "      <td>2022</td>\n",
       "      <td>11</td>\n",
       "      <td>19</td>\n",
       "    </tr>\n",
       "    <tr>\n",
       "      <th>358</th>\n",
       "      <td>20221119_080913_ssc1_u0001_visual_0244.tif</td>\n",
       "      <td>37.293020</td>\n",
       "      <td>11.579971</td>\n",
       "      <td>37.295381</td>\n",
       "      <td>11.577670</td>\n",
       "      <td>1.0</td>\n",
       "      <td>1280537.0</td>\n",
       "      <td>313999.5</td>\n",
       "      <td>2022</td>\n",
       "      <td>11</td>\n",
       "      <td>19</td>\n",
       "    </tr>\n",
       "    <tr>\n",
       "      <th>...</th>\n",
       "      <td>...</td>\n",
       "      <td>...</td>\n",
       "      <td>...</td>\n",
       "      <td>...</td>\n",
       "      <td>...</td>\n",
       "      <td>...</td>\n",
       "      <td>...</td>\n",
       "      <td>...</td>\n",
       "      <td>...</td>\n",
       "      <td>...</td>\n",
       "      <td>...</td>\n",
       "    </tr>\n",
       "    <tr>\n",
       "      <th>50552</th>\n",
       "      <td>20230123_071148_ssc13_u0001_visual_0140.tif</td>\n",
       "      <td>38.953812</td>\n",
       "      <td>11.974289</td>\n",
       "      <td>38.956163</td>\n",
       "      <td>11.971974</td>\n",
       "      <td>0.0</td>\n",
       "      <td>0.0</td>\n",
       "      <td>NaN</td>\n",
       "      <td>2023</td>\n",
       "      <td>1</td>\n",
       "      <td>23</td>\n",
       "    </tr>\n",
       "    <tr>\n",
       "      <th>50591</th>\n",
       "      <td>20221031_134804_ssc19_u0001_visual_0138.tif</td>\n",
       "      <td>38.778613</td>\n",
       "      <td>8.971915</td>\n",
       "      <td>38.780943</td>\n",
       "      <td>8.969601</td>\n",
       "      <td>0.0</td>\n",
       "      <td>0.0</td>\n",
       "      <td>NaN</td>\n",
       "      <td>2022</td>\n",
       "      <td>10</td>\n",
       "      <td>31</td>\n",
       "    </tr>\n",
       "    <tr>\n",
       "      <th>50612</th>\n",
       "      <td>20221031_134804_ssc19_u0001_visual_0156.tif</td>\n",
       "      <td>38.778638</td>\n",
       "      <td>8.930235</td>\n",
       "      <td>38.780968</td>\n",
       "      <td>8.927921</td>\n",
       "      <td>0.0</td>\n",
       "      <td>0.0</td>\n",
       "      <td>NaN</td>\n",
       "      <td>2022</td>\n",
       "      <td>10</td>\n",
       "      <td>31</td>\n",
       "    </tr>\n",
       "    <tr>\n",
       "      <th>50757</th>\n",
       "      <td>20221031_134804_ssc19_u0001_visual_0457.tif</td>\n",
       "      <td>38.785625</td>\n",
       "      <td>8.927924</td>\n",
       "      <td>38.787955</td>\n",
       "      <td>8.925610</td>\n",
       "      <td>0.0</td>\n",
       "      <td>NaN</td>\n",
       "      <td>NaN</td>\n",
       "      <td>2022</td>\n",
       "      <td>10</td>\n",
       "      <td>31</td>\n",
       "    </tr>\n",
       "    <tr>\n",
       "      <th>50997</th>\n",
       "      <td>20221028_084503_ssc16_u0001_visual_1717.tif</td>\n",
       "      <td>38.994456</td>\n",
       "      <td>12.020952</td>\n",
       "      <td>38.996808</td>\n",
       "      <td>12.018637</td>\n",
       "      <td>0.0</td>\n",
       "      <td>0.0</td>\n",
       "      <td>NaN</td>\n",
       "      <td>2022</td>\n",
       "      <td>10</td>\n",
       "      <td>28</td>\n",
       "    </tr>\n",
       "  </tbody>\n",
       "</table>\n",
       "<p>689 rows × 11 columns</p>\n",
       "</div>\n",
       "      <button class=\"colab-df-convert\" onclick=\"convertToInteractive('df-43be1daf-9786-4b17-bb92-ca8dcb9c853c')\"\n",
       "              title=\"Convert this dataframe to an interactive table.\"\n",
       "              style=\"display:none;\">\n",
       "\n",
       "  <svg xmlns=\"http://www.w3.org/2000/svg\" height=\"24px\"viewBox=\"0 0 24 24\"\n",
       "       width=\"24px\">\n",
       "    <path d=\"M0 0h24v24H0V0z\" fill=\"none\"/>\n",
       "    <path d=\"M18.56 5.44l.94 2.06.94-2.06 2.06-.94-2.06-.94-.94-2.06-.94 2.06-2.06.94zm-11 1L8.5 8.5l.94-2.06 2.06-.94-2.06-.94L8.5 2.5l-.94 2.06-2.06.94zm10 10l.94 2.06.94-2.06 2.06-.94-2.06-.94-.94-2.06-.94 2.06-2.06.94z\"/><path d=\"M17.41 7.96l-1.37-1.37c-.4-.4-.92-.59-1.43-.59-.52 0-1.04.2-1.43.59L10.3 9.45l-7.72 7.72c-.78.78-.78 2.05 0 2.83L4 21.41c.39.39.9.59 1.41.59.51 0 1.02-.2 1.41-.59l7.78-7.78 2.81-2.81c.8-.78.8-2.07 0-2.86zM5.41 20L4 18.59l7.72-7.72 1.47 1.35L5.41 20z\"/>\n",
       "  </svg>\n",
       "      </button>\n",
       "\n",
       "\n",
       "\n",
       "    <div id=\"df-545f1d99-89d3-4fa2-93d9-bf270b0ce2b7\">\n",
       "      <button class=\"colab-df-quickchart\" onclick=\"quickchart('df-545f1d99-89d3-4fa2-93d9-bf270b0ce2b7')\"\n",
       "              title=\"Suggest charts.\"\n",
       "              style=\"display:none;\">\n",
       "\n",
       "<svg xmlns=\"http://www.w3.org/2000/svg\" height=\"24px\"viewBox=\"0 0 24 24\"\n",
       "     width=\"24px\">\n",
       "    <g>\n",
       "        <path d=\"M19 3H5c-1.1 0-2 .9-2 2v14c0 1.1.9 2 2 2h14c1.1 0 2-.9 2-2V5c0-1.1-.9-2-2-2zM9 17H7v-7h2v7zm4 0h-2V7h2v10zm4 0h-2v-4h2v4z\"/>\n",
       "    </g>\n",
       "</svg>\n",
       "      </button>\n",
       "    </div>\n",
       "\n",
       "<style>\n",
       "  .colab-df-quickchart {\n",
       "    background-color: #E8F0FE;\n",
       "    border: none;\n",
       "    border-radius: 50%;\n",
       "    cursor: pointer;\n",
       "    display: none;\n",
       "    fill: #1967D2;\n",
       "    height: 32px;\n",
       "    padding: 0 0 0 0;\n",
       "    width: 32px;\n",
       "  }\n",
       "\n",
       "  .colab-df-quickchart:hover {\n",
       "    background-color: #E2EBFA;\n",
       "    box-shadow: 0px 1px 2px rgba(60, 64, 67, 0.3), 0px 1px 3px 1px rgba(60, 64, 67, 0.15);\n",
       "    fill: #174EA6;\n",
       "  }\n",
       "\n",
       "  [theme=dark] .colab-df-quickchart {\n",
       "    background-color: #3B4455;\n",
       "    fill: #D2E3FC;\n",
       "  }\n",
       "\n",
       "  [theme=dark] .colab-df-quickchart:hover {\n",
       "    background-color: #434B5C;\n",
       "    box-shadow: 0px 1px 3px 1px rgba(0, 0, 0, 0.15);\n",
       "    filter: drop-shadow(0px 1px 2px rgba(0, 0, 0, 0.3));\n",
       "    fill: #FFFFFF;\n",
       "  }\n",
       "</style>\n",
       "\n",
       "    <script>\n",
       "      async function quickchart(key) {\n",
       "        const containerElement = document.querySelector('#' + key);\n",
       "        const charts = await google.colab.kernel.invokeFunction(\n",
       "            'suggestCharts', [key], {});\n",
       "      }\n",
       "    </script>\n",
       "\n",
       "      <script>\n",
       "\n",
       "function displayQuickchartButton(domScope) {\n",
       "  let quickchartButtonEl =\n",
       "    domScope.querySelector('#df-545f1d99-89d3-4fa2-93d9-bf270b0ce2b7 button.colab-df-quickchart');\n",
       "  quickchartButtonEl.style.display =\n",
       "    google.colab.kernel.accessAllowed ? 'block' : 'none';\n",
       "}\n",
       "\n",
       "        displayQuickchartButton(document);\n",
       "      </script>\n",
       "      <style>\n",
       "    .colab-df-container {\n",
       "      display:flex;\n",
       "      flex-wrap:wrap;\n",
       "      gap: 12px;\n",
       "    }\n",
       "\n",
       "    .colab-df-convert {\n",
       "      background-color: #E8F0FE;\n",
       "      border: none;\n",
       "      border-radius: 50%;\n",
       "      cursor: pointer;\n",
       "      display: none;\n",
       "      fill: #1967D2;\n",
       "      height: 32px;\n",
       "      padding: 0 0 0 0;\n",
       "      width: 32px;\n",
       "    }\n",
       "\n",
       "    .colab-df-convert:hover {\n",
       "      background-color: #E2EBFA;\n",
       "      box-shadow: 0px 1px 2px rgba(60, 64, 67, 0.3), 0px 1px 3px 1px rgba(60, 64, 67, 0.15);\n",
       "      fill: #174EA6;\n",
       "    }\n",
       "\n",
       "    [theme=dark] .colab-df-convert {\n",
       "      background-color: #3B4455;\n",
       "      fill: #D2E3FC;\n",
       "    }\n",
       "\n",
       "    [theme=dark] .colab-df-convert:hover {\n",
       "      background-color: #434B5C;\n",
       "      box-shadow: 0px 1px 3px 1px rgba(0, 0, 0, 0.15);\n",
       "      filter: drop-shadow(0px 1px 2px rgba(0, 0, 0, 0.3));\n",
       "      fill: #FFFFFF;\n",
       "    }\n",
       "  </style>\n",
       "\n",
       "      <script>\n",
       "        const buttonEl =\n",
       "          document.querySelector('#df-43be1daf-9786-4b17-bb92-ca8dcb9c853c button.colab-df-convert');\n",
       "        buttonEl.style.display =\n",
       "          google.colab.kernel.accessAllowed ? 'block' : 'none';\n",
       "\n",
       "        async function convertToInteractive(key) {\n",
       "          const element = document.querySelector('#df-43be1daf-9786-4b17-bb92-ca8dcb9c853c');\n",
       "          const dataTable =\n",
       "            await google.colab.kernel.invokeFunction('convertToInteractive',\n",
       "                                                     [key], {});\n",
       "          if (!dataTable) return;\n",
       "\n",
       "          const docLinkHtml = 'Like what you see? Visit the ' +\n",
       "            '<a target=\"_blank\" href=https://colab.research.google.com/notebooks/data_table.ipynb>data table notebook</a>'\n",
       "            + ' to learn more about interactive tables.';\n",
       "          element.innerHTML = '';\n",
       "          dataTable['output_type'] = 'display_data';\n",
       "          await google.colab.output.renderOutput(dataTable, element);\n",
       "          const docLink = document.createElement('div');\n",
       "          docLink.innerHTML = docLinkHtml;\n",
       "          element.appendChild(docLink);\n",
       "        }\n",
       "      </script>\n",
       "    </div>\n",
       "  </div>\n"
      ],
      "text/plain": [
       "                                          filename      lon_1      lat_1  \\\n",
       "26      20230116_072932_ss01_u0001_visual_1941.tif  38.806172   8.982793   \n",
       "165     20221130_075418_ssc1_u0001_visual_0432.tif  38.963336  11.982696   \n",
       "262     20221130_075418_ssc1_u0001_visual_1740.tif  38.993906  11.964178   \n",
       "334     20221119_080913_ssc1_u0001_visual_0220.tif  37.292682  11.635510   \n",
       "358     20221119_080913_ssc1_u0001_visual_0244.tif  37.293020  11.579971   \n",
       "...                                            ...        ...        ...   \n",
       "50552  20230123_071148_ssc13_u0001_visual_0140.tif  38.953812  11.974289   \n",
       "50591  20221031_134804_ssc19_u0001_visual_0138.tif  38.778613   8.971915   \n",
       "50612  20221031_134804_ssc19_u0001_visual_0156.tif  38.778638   8.930235   \n",
       "50757  20221031_134804_ssc19_u0001_visual_0457.tif  38.785625   8.927924   \n",
       "50997  20221028_084503_ssc16_u0001_visual_1717.tif  38.994456  12.020952   \n",
       "\n",
       "           lon_2      lat_2  activity   lat_mean  lon_mean  year  month  day  \n",
       "26     38.808502   8.980479       0.0   992827.5  478822.5  2023      1   16  \n",
       "165    38.965687  11.980382       1.0  1324512.5  496136.5  2022     11   30  \n",
       "262    38.996257  11.961863       1.0  1322464.5  499464.5  2022     11   30  \n",
       "334    37.295044  11.633210       0.0  1286681.0  313999.5  2022     11   19  \n",
       "358    37.295381  11.577670       1.0  1280537.0  313999.5  2022     11   19  \n",
       "...          ...        ...       ...        ...       ...   ...    ...  ...  \n",
       "50552  38.956163  11.971974       0.0        0.0       NaN  2023      1   23  \n",
       "50591  38.780943   8.969601       0.0        0.0       NaN  2022     10   31  \n",
       "50612  38.780968   8.927921       0.0        0.0       NaN  2022     10   31  \n",
       "50757  38.787955   8.925610       0.0        NaN       NaN  2022     10   31  \n",
       "50997  38.996808  12.018637       0.0        0.0       NaN  2022     10   28  \n",
       "\n",
       "[689 rows x 11 columns]"
      ]
     },
     "execution_count": 49,
     "metadata": {},
     "output_type": "execute_result"
    }
   ],
   "source": [
    "df"
   ]
  },
  {
   "cell_type": "code",
   "execution_count": null,
   "metadata": {
    "id": "7E6Zyj8cD2qa"
   },
   "outputs": [],
   "source": [
    "import shutil\n",
    "\n",
    "for index, row in labelled_df.iterrows():\n",
    "  src_f = row[\"filename\"]\n",
    "  src_path = os.path.join(PROJECT_PATH, src_f)\n",
    "\n",
    "  fname = src_f[src_f.index('/') + 1:]\n",
    "  dest_path = os.path.join(PROJECT_PATH, \"amhara_labelled\", fname)\n",
    "\n",
    "  shutil.copy(src_path, dest_path)\n",
    "  labelled_df.at[index, \"filename\"] = fname"
   ]
  },
  {
   "cell_type": "code",
   "execution_count": null,
   "metadata": {
    "id": "GPI7vO7iqxmN"
   },
   "outputs": [],
   "source": [
    "from pyproj import Transformer"
   ]
  },
  {
   "cell_type": "code",
   "execution_count": null,
   "metadata": {
    "colab": {
     "base_uri": "https://localhost:8080/"
    },
    "id": "kE6ExR1DHTmq",
    "outputId": "a3554632-47e3-44f0-aad3-89163135a4a2"
   },
   "outputs": [
    {
     "name": "stderr",
     "output_type": "stream",
     "text": [
      "<ipython-input-48-e546bf137dcf>:23: SettingWithCopyWarning: \n",
      "A value is trying to be set on a copy of a slice from a DataFrame.\n",
      "Try using .loc[row_indexer,col_indexer] = value instead\n",
      "\n",
      "See the caveats in the documentation: https://pandas.pydata.org/pandas-docs/stable/user_guide/indexing.html#returning-a-view-versus-a-copy\n",
      "  df['lat_1'], df['lon_1'], df['lat_2'], df['lon_2'] = transformed_coordinates['lat_1'], transformed_coordinates['lon_1'], transformed_coordinates['lat_2'], transformed_coordinates['lon_2']\n"
     ]
    }
   ],
   "source": [
    "# Example snippet to convert coords from df - Richard\n",
    "\n",
    "# df = pd.DataFrame({\n",
    "#     'filename': ['test'],\n",
    "#     'lat_1': [1582015],\n",
    "#     'lon_1': [519108.5],\n",
    "#     'lat_2': [1581759],\n",
    "#     'lon_2': [519364.5],\n",
    "#     'activity': [1]\n",
    "# })\n",
    "\n",
    "transformer = Transformer.from_crs(\"EPSG:32637\", \"EPSG:4326\")\n",
    "\n",
    "def transform_coordinates(row):\n",
    "    lat1, lon1 = transformer.transform(row['lon_1'], row['lat_1'])\n",
    "    lat2, lon2 = transformer.transform(row['lon_2'], row['lat_2'])\n",
    "    return pd.Series({'lat_1':lat1, 'lon_1':lon1, 'lat_2':lat2, 'lon_2':lon2})\n",
    "\n",
    "# Apply transformation\n",
    "transformed_coordinates = df.apply(transform_coordinates, axis=1)\n",
    "\n",
    "# Overwrite original columns\n",
    "df['lat_1'], df['lon_1'], df['lat_2'], df['lon_2'] = transformed_coordinates['lat_1'], transformed_coordinates['lon_1'], transformed_coordinates['lat_2'], transformed_coordinates['lon_2']\n"
   ]
  },
  {
   "cell_type": "markdown",
   "metadata": {
    "id": "xIW3ulKRCi0G"
   },
   "source": [
    "Load pre-existing csv"
   ]
  },
  {
   "cell_type": "code",
   "execution_count": null,
   "metadata": {
    "id": "vXZQeZHzvYKP"
   },
   "outputs": [],
   "source": [
    "image_folder = os.path.join(PROJECT_PATH, \"amhara_skysat_all_clip\")\n",
    "print(len(os.listdir(image_folder)))"
   ]
  },
  {
   "cell_type": "code",
   "execution_count": null,
   "metadata": {
    "id": "jESqryeFOFW_"
   },
   "outputs": [],
   "source": [
    "csv_path = os.path.join(PROJECT_PATH, \"amhara_labels.csv\")\n",
    "df = pd.read_csv(csv_path)"
   ]
  },
  {
   "cell_type": "code",
   "execution_count": null,
   "metadata": {
    "id": "cX-0MA005g05"
   },
   "outputs": [],
   "source": [
    "df = df.iloc[:, 1:]"
   ]
  },
  {
   "cell_type": "code",
   "execution_count": null,
   "metadata": {
    "id": "eW9HcHrMbHRa"
   },
   "outputs": [],
   "source": [
    "mismatched = df[df[\"activity\"] != df[\"expert\"]]"
   ]
  },
  {
   "cell_type": "code",
   "execution_count": null,
   "metadata": {
    "colab": {
     "base_uri": "https://localhost:8080/"
    },
    "id": "8MlOhLbBbcDp",
    "outputId": "0073dec6-93ff-4043-8233-328805120207"
   },
   "outputs": [
    {
     "data": {
      "text/plain": [
       "173"
      ]
     },
     "execution_count": 9,
     "metadata": {},
     "output_type": "execute_result"
    }
   ],
   "source": [
    "len(mismatched)"
   ]
  },
  {
   "cell_type": "code",
   "execution_count": null,
   "metadata": {
    "colab": {
     "base_uri": "https://localhost:8080/"
    },
    "id": "A_yA-BSTbs7l",
    "outputId": "a2c619e0-6700-47ff-bd26-dbcecb3e2c92"
   },
   "outputs": [
    {
     "name": "stdout",
     "output_type": "stream",
     "text": [
      "102\n"
     ]
    }
   ],
   "source": [
    "print(len(mismatched[mismatched[\"activity\"] == 0]))"
   ]
  },
  {
   "cell_type": "code",
   "execution_count": null,
   "metadata": {
    "id": "EKRYD-EelgJc"
   },
   "outputs": [],
   "source": [
    "df.rename(columns={'has_piles': 'activity'}, inplace=True)"
   ]
  },
  {
   "cell_type": "code",
   "execution_count": null,
   "metadata": {
    "id": "_ITPjketnkMi"
   },
   "outputs": [],
   "source": [
    "df.drop(\"model_preds\", axis = 1, inplace=True)"
   ]
  },
  {
   "cell_type": "code",
   "execution_count": null,
   "metadata": {
    "id": "0N6S_1cvxoKp"
   },
   "outputs": [],
   "source": [
    "# Rename filename so it uses mounted directory\n",
    "df['filename'] = df['filename'].str.replace('/', '_gcp/', n=1)"
   ]
  },
  {
   "cell_type": "code",
   "execution_count": null,
   "metadata": {
    "id": "zpJ8D9X2yDEU"
   },
   "outputs": [],
   "source": [
    "df[df['lon_1'].isnull()]"
   ]
  },
  {
   "cell_type": "code",
   "execution_count": null,
   "metadata": {
    "id": "atFLxsRPOkhY"
   },
   "outputs": [],
   "source": [
    "count = 0\n",
    "for index, row in df.iterrows():\n",
    "    filename = row[\"filename\"]\n",
    "    f = os.path.join(PROJECT_PATH, filename)\n",
    "    try:\n",
    "      lat1, lon1, lat2, lon2 = get_coordinates(f)\n",
    "      df.at[index, \"lat_1\"] = lat1\n",
    "      df.at[index, \"lat_2\"] = lat2\n",
    "      df.at[index, \"lon_1\"] = lon1\n",
    "      df.at[index, \"lon_2\"] = lon2\n",
    "      count += 1\n",
    "    except Exception as e:\n",
    "      print(\"failed on \", f)\n",
    "      print(e)\n",
    "\n",
    "    if count % 100 == 0:\n",
    "      print(count)"
   ]
  },
  {
   "cell_type": "markdown",
   "metadata": {
    "id": "JwDPNissNbmm"
   },
   "source": [
    "# Coordinates\n",
    "https://colab.research.google.com/drive/15x1bwqMzEd6EcEDPFqArDC-OLtgdD8I8"
   ]
  },
  {
   "cell_type": "code",
   "execution_count": null,
   "metadata": {
    "colab": {
     "base_uri": "https://localhost:8080/",
     "height": 424
    },
    "id": "YPhYRJp4gQBz",
    "outputId": "8e49bdb6-43e6-4b5c-bfe8-2d33dab906da"
   },
   "outputs": [
    {
     "data": {
      "text/html": [
       "\n",
       "\n",
       "  <div id=\"df-0b779e36-69fb-47e2-8250-66881a6299b3\">\n",
       "    <div class=\"colab-df-container\">\n",
       "      <div>\n",
       "<style scoped>\n",
       "    .dataframe tbody tr th:only-of-type {\n",
       "        vertical-align: middle;\n",
       "    }\n",
       "\n",
       "    .dataframe tbody tr th {\n",
       "        vertical-align: top;\n",
       "    }\n",
       "\n",
       "    .dataframe thead th {\n",
       "        text-align: right;\n",
       "    }\n",
       "</style>\n",
       "<table border=\"1\" class=\"dataframe\">\n",
       "  <thead>\n",
       "    <tr style=\"text-align: right;\">\n",
       "      <th></th>\n",
       "      <th>filename</th>\n",
       "      <th>lon_1</th>\n",
       "      <th>lat_1</th>\n",
       "      <th>lon_2</th>\n",
       "      <th>lat_2</th>\n",
       "      <th>activity</th>\n",
       "      <th>lat_mean</th>\n",
       "      <th>lon_mean</th>\n",
       "      <th>year</th>\n",
       "      <th>month</th>\n",
       "      <th>day</th>\n",
       "    </tr>\n",
       "  </thead>\n",
       "  <tbody>\n",
       "    <tr>\n",
       "      <th>0</th>\n",
       "      <td>amhara_skysat_all_clip/20230116_072932_ss01_u0...</td>\n",
       "      <td>478694.5</td>\n",
       "      <td>995259.5</td>\n",
       "      <td>478950.5</td>\n",
       "      <td>995003.5</td>\n",
       "      <td>NaN</td>\n",
       "      <td>995131.5</td>\n",
       "      <td>478822.5</td>\n",
       "      <td>2023</td>\n",
       "      <td>1</td>\n",
       "      <td>16</td>\n",
       "    </tr>\n",
       "    <tr>\n",
       "      <th>1</th>\n",
       "      <td>amhara_skysat_all_clip/20230116_072932_ss01_u0...</td>\n",
       "      <td>478694.5</td>\n",
       "      <td>997307.5</td>\n",
       "      <td>478950.5</td>\n",
       "      <td>997051.5</td>\n",
       "      <td>NaN</td>\n",
       "      <td>997179.5</td>\n",
       "      <td>478822.5</td>\n",
       "      <td>2023</td>\n",
       "      <td>1</td>\n",
       "      <td>16</td>\n",
       "    </tr>\n",
       "    <tr>\n",
       "      <th>2</th>\n",
       "      <td>amhara_skysat_all_clip/20230116_072932_ss01_u0...</td>\n",
       "      <td>478694.5</td>\n",
       "      <td>996539.5</td>\n",
       "      <td>478950.5</td>\n",
       "      <td>996283.5</td>\n",
       "      <td>NaN</td>\n",
       "      <td>996411.5</td>\n",
       "      <td>478822.5</td>\n",
       "      <td>2023</td>\n",
       "      <td>1</td>\n",
       "      <td>16</td>\n",
       "    </tr>\n",
       "    <tr>\n",
       "      <th>3</th>\n",
       "      <td>amhara_skysat_all_clip/20230116_072932_ss01_u0...</td>\n",
       "      <td>478694.5</td>\n",
       "      <td>995515.5</td>\n",
       "      <td>478950.5</td>\n",
       "      <td>995259.5</td>\n",
       "      <td>NaN</td>\n",
       "      <td>995387.5</td>\n",
       "      <td>478822.5</td>\n",
       "      <td>2023</td>\n",
       "      <td>1</td>\n",
       "      <td>16</td>\n",
       "    </tr>\n",
       "    <tr>\n",
       "      <th>4</th>\n",
       "      <td>amhara_skysat_all_clip/20230116_072932_ss01_u0...</td>\n",
       "      <td>478694.5</td>\n",
       "      <td>997051.5</td>\n",
       "      <td>478950.5</td>\n",
       "      <td>996795.5</td>\n",
       "      <td>NaN</td>\n",
       "      <td>996923.5</td>\n",
       "      <td>478822.5</td>\n",
       "      <td>2023</td>\n",
       "      <td>1</td>\n",
       "      <td>16</td>\n",
       "    </tr>\n",
       "    <tr>\n",
       "      <th>...</th>\n",
       "      <td>...</td>\n",
       "      <td>...</td>\n",
       "      <td>...</td>\n",
       "      <td>...</td>\n",
       "      <td>...</td>\n",
       "      <td>...</td>\n",
       "      <td>...</td>\n",
       "      <td>...</td>\n",
       "      <td>...</td>\n",
       "      <td>...</td>\n",
       "      <td>...</td>\n",
       "    </tr>\n",
       "    <tr>\n",
       "      <th>51099</th>\n",
       "      <td>amhara_skysat_all_clip/20230123_071148_ssc13_u...</td>\n",
       "      <td>NaN</td>\n",
       "      <td>NaN</td>\n",
       "      <td>NaN</td>\n",
       "      <td>NaN</td>\n",
       "      <td>NaN</td>\n",
       "      <td>NaN</td>\n",
       "      <td>NaN</td>\n",
       "      <td>2023</td>\n",
       "      <td>1</td>\n",
       "      <td>23</td>\n",
       "    </tr>\n",
       "    <tr>\n",
       "      <th>51100</th>\n",
       "      <td>amhara_skysat_all_clip/20230123_071148_ssc13_u...</td>\n",
       "      <td>NaN</td>\n",
       "      <td>NaN</td>\n",
       "      <td>NaN</td>\n",
       "      <td>NaN</td>\n",
       "      <td>NaN</td>\n",
       "      <td>NaN</td>\n",
       "      <td>NaN</td>\n",
       "      <td>2023</td>\n",
       "      <td>1</td>\n",
       "      <td>23</td>\n",
       "    </tr>\n",
       "    <tr>\n",
       "      <th>51101</th>\n",
       "      <td>amhara_skysat_all_clip/20230123_071148_ssc13_u...</td>\n",
       "      <td>NaN</td>\n",
       "      <td>NaN</td>\n",
       "      <td>NaN</td>\n",
       "      <td>NaN</td>\n",
       "      <td>NaN</td>\n",
       "      <td>NaN</td>\n",
       "      <td>NaN</td>\n",
       "      <td>2023</td>\n",
       "      <td>1</td>\n",
       "      <td>23</td>\n",
       "    </tr>\n",
       "    <tr>\n",
       "      <th>51102</th>\n",
       "      <td>amhara_skysat_all_clip/20230123_071148_ssc13_u...</td>\n",
       "      <td>NaN</td>\n",
       "      <td>NaN</td>\n",
       "      <td>NaN</td>\n",
       "      <td>NaN</td>\n",
       "      <td>NaN</td>\n",
       "      <td>NaN</td>\n",
       "      <td>NaN</td>\n",
       "      <td>2023</td>\n",
       "      <td>1</td>\n",
       "      <td>23</td>\n",
       "    </tr>\n",
       "    <tr>\n",
       "      <th>51103</th>\n",
       "      <td>amhara_skysat_all_clip/20230123_071148_ssc13_u...</td>\n",
       "      <td>NaN</td>\n",
       "      <td>NaN</td>\n",
       "      <td>NaN</td>\n",
       "      <td>NaN</td>\n",
       "      <td>NaN</td>\n",
       "      <td>NaN</td>\n",
       "      <td>NaN</td>\n",
       "      <td>2023</td>\n",
       "      <td>1</td>\n",
       "      <td>23</td>\n",
       "    </tr>\n",
       "  </tbody>\n",
       "</table>\n",
       "<p>51104 rows × 11 columns</p>\n",
       "</div>\n",
       "      <button class=\"colab-df-convert\" onclick=\"convertToInteractive('df-0b779e36-69fb-47e2-8250-66881a6299b3')\"\n",
       "              title=\"Convert this dataframe to an interactive table.\"\n",
       "              style=\"display:none;\">\n",
       "\n",
       "  <svg xmlns=\"http://www.w3.org/2000/svg\" height=\"24px\"viewBox=\"0 0 24 24\"\n",
       "       width=\"24px\">\n",
       "    <path d=\"M0 0h24v24H0V0z\" fill=\"none\"/>\n",
       "    <path d=\"M18.56 5.44l.94 2.06.94-2.06 2.06-.94-2.06-.94-.94-2.06-.94 2.06-2.06.94zm-11 1L8.5 8.5l.94-2.06 2.06-.94-2.06-.94L8.5 2.5l-.94 2.06-2.06.94zm10 10l.94 2.06.94-2.06 2.06-.94-2.06-.94-.94-2.06-.94 2.06-2.06.94z\"/><path d=\"M17.41 7.96l-1.37-1.37c-.4-.4-.92-.59-1.43-.59-.52 0-1.04.2-1.43.59L10.3 9.45l-7.72 7.72c-.78.78-.78 2.05 0 2.83L4 21.41c.39.39.9.59 1.41.59.51 0 1.02-.2 1.41-.59l7.78-7.78 2.81-2.81c.8-.78.8-2.07 0-2.86zM5.41 20L4 18.59l7.72-7.72 1.47 1.35L5.41 20z\"/>\n",
       "  </svg>\n",
       "      </button>\n",
       "\n",
       "\n",
       "\n",
       "    <div id=\"df-62546346-41c5-4c23-8107-372b132f3918\">\n",
       "      <button class=\"colab-df-quickchart\" onclick=\"quickchart('df-62546346-41c5-4c23-8107-372b132f3918')\"\n",
       "              title=\"Suggest charts.\"\n",
       "              style=\"display:none;\">\n",
       "\n",
       "<svg xmlns=\"http://www.w3.org/2000/svg\" height=\"24px\"viewBox=\"0 0 24 24\"\n",
       "     width=\"24px\">\n",
       "    <g>\n",
       "        <path d=\"M19 3H5c-1.1 0-2 .9-2 2v14c0 1.1.9 2 2 2h14c1.1 0 2-.9 2-2V5c0-1.1-.9-2-2-2zM9 17H7v-7h2v7zm4 0h-2V7h2v10zm4 0h-2v-4h2v4z\"/>\n",
       "    </g>\n",
       "</svg>\n",
       "      </button>\n",
       "    </div>\n",
       "\n",
       "<style>\n",
       "  .colab-df-quickchart {\n",
       "    background-color: #E8F0FE;\n",
       "    border: none;\n",
       "    border-radius: 50%;\n",
       "    cursor: pointer;\n",
       "    display: none;\n",
       "    fill: #1967D2;\n",
       "    height: 32px;\n",
       "    padding: 0 0 0 0;\n",
       "    width: 32px;\n",
       "  }\n",
       "\n",
       "  .colab-df-quickchart:hover {\n",
       "    background-color: #E2EBFA;\n",
       "    box-shadow: 0px 1px 2px rgba(60, 64, 67, 0.3), 0px 1px 3px 1px rgba(60, 64, 67, 0.15);\n",
       "    fill: #174EA6;\n",
       "  }\n",
       "\n",
       "  [theme=dark] .colab-df-quickchart {\n",
       "    background-color: #3B4455;\n",
       "    fill: #D2E3FC;\n",
       "  }\n",
       "\n",
       "  [theme=dark] .colab-df-quickchart:hover {\n",
       "    background-color: #434B5C;\n",
       "    box-shadow: 0px 1px 3px 1px rgba(0, 0, 0, 0.15);\n",
       "    filter: drop-shadow(0px 1px 2px rgba(0, 0, 0, 0.3));\n",
       "    fill: #FFFFFF;\n",
       "  }\n",
       "</style>\n",
       "\n",
       "    <script>\n",
       "      async function quickchart(key) {\n",
       "        const containerElement = document.querySelector('#' + key);\n",
       "        const charts = await google.colab.kernel.invokeFunction(\n",
       "            'suggestCharts', [key], {});\n",
       "      }\n",
       "    </script>\n",
       "\n",
       "      <script>\n",
       "\n",
       "function displayQuickchartButton(domScope) {\n",
       "  let quickchartButtonEl =\n",
       "    domScope.querySelector('#df-62546346-41c5-4c23-8107-372b132f3918 button.colab-df-quickchart');\n",
       "  quickchartButtonEl.style.display =\n",
       "    google.colab.kernel.accessAllowed ? 'block' : 'none';\n",
       "}\n",
       "\n",
       "        displayQuickchartButton(document);\n",
       "      </script>\n",
       "      <style>\n",
       "    .colab-df-container {\n",
       "      display:flex;\n",
       "      flex-wrap:wrap;\n",
       "      gap: 12px;\n",
       "    }\n",
       "\n",
       "    .colab-df-convert {\n",
       "      background-color: #E8F0FE;\n",
       "      border: none;\n",
       "      border-radius: 50%;\n",
       "      cursor: pointer;\n",
       "      display: none;\n",
       "      fill: #1967D2;\n",
       "      height: 32px;\n",
       "      padding: 0 0 0 0;\n",
       "      width: 32px;\n",
       "    }\n",
       "\n",
       "    .colab-df-convert:hover {\n",
       "      background-color: #E2EBFA;\n",
       "      box-shadow: 0px 1px 2px rgba(60, 64, 67, 0.3), 0px 1px 3px 1px rgba(60, 64, 67, 0.15);\n",
       "      fill: #174EA6;\n",
       "    }\n",
       "\n",
       "    [theme=dark] .colab-df-convert {\n",
       "      background-color: #3B4455;\n",
       "      fill: #D2E3FC;\n",
       "    }\n",
       "\n",
       "    [theme=dark] .colab-df-convert:hover {\n",
       "      background-color: #434B5C;\n",
       "      box-shadow: 0px 1px 3px 1px rgba(0, 0, 0, 0.15);\n",
       "      filter: drop-shadow(0px 1px 2px rgba(0, 0, 0, 0.3));\n",
       "      fill: #FFFFFF;\n",
       "    }\n",
       "  </style>\n",
       "\n",
       "      <script>\n",
       "        const buttonEl =\n",
       "          document.querySelector('#df-0b779e36-69fb-47e2-8250-66881a6299b3 button.colab-df-convert');\n",
       "        buttonEl.style.display =\n",
       "          google.colab.kernel.accessAllowed ? 'block' : 'none';\n",
       "\n",
       "        async function convertToInteractive(key) {\n",
       "          const element = document.querySelector('#df-0b779e36-69fb-47e2-8250-66881a6299b3');\n",
       "          const dataTable =\n",
       "            await google.colab.kernel.invokeFunction('convertToInteractive',\n",
       "                                                     [key], {});\n",
       "          if (!dataTable) return;\n",
       "\n",
       "          const docLinkHtml = 'Like what you see? Visit the ' +\n",
       "            '<a target=\"_blank\" href=https://colab.research.google.com/notebooks/data_table.ipynb>data table notebook</a>'\n",
       "            + ' to learn more about interactive tables.';\n",
       "          element.innerHTML = '';\n",
       "          dataTable['output_type'] = 'display_data';\n",
       "          await google.colab.output.renderOutput(dataTable, element);\n",
       "          const docLink = document.createElement('div');\n",
       "          docLink.innerHTML = docLinkHtml;\n",
       "          element.appendChild(docLink);\n",
       "        }\n",
       "      </script>\n",
       "    </div>\n",
       "  </div>\n"
      ],
      "text/plain": [
       "                                                filename     lon_1     lat_1  \\\n",
       "0      amhara_skysat_all_clip/20230116_072932_ss01_u0...  478694.5  995259.5   \n",
       "1      amhara_skysat_all_clip/20230116_072932_ss01_u0...  478694.5  997307.5   \n",
       "2      amhara_skysat_all_clip/20230116_072932_ss01_u0...  478694.5  996539.5   \n",
       "3      amhara_skysat_all_clip/20230116_072932_ss01_u0...  478694.5  995515.5   \n",
       "4      amhara_skysat_all_clip/20230116_072932_ss01_u0...  478694.5  997051.5   \n",
       "...                                                  ...       ...       ...   \n",
       "51099  amhara_skysat_all_clip/20230123_071148_ssc13_u...       NaN       NaN   \n",
       "51100  amhara_skysat_all_clip/20230123_071148_ssc13_u...       NaN       NaN   \n",
       "51101  amhara_skysat_all_clip/20230123_071148_ssc13_u...       NaN       NaN   \n",
       "51102  amhara_skysat_all_clip/20230123_071148_ssc13_u...       NaN       NaN   \n",
       "51103  amhara_skysat_all_clip/20230123_071148_ssc13_u...       NaN       NaN   \n",
       "\n",
       "          lon_2     lat_2  activity  lat_mean  lon_mean  year  month  day  \n",
       "0      478950.5  995003.5       NaN  995131.5  478822.5  2023      1   16  \n",
       "1      478950.5  997051.5       NaN  997179.5  478822.5  2023      1   16  \n",
       "2      478950.5  996283.5       NaN  996411.5  478822.5  2023      1   16  \n",
       "3      478950.5  995259.5       NaN  995387.5  478822.5  2023      1   16  \n",
       "4      478950.5  996795.5       NaN  996923.5  478822.5  2023      1   16  \n",
       "...         ...       ...       ...       ...       ...   ...    ...  ...  \n",
       "51099       NaN       NaN       NaN       NaN       NaN  2023      1   23  \n",
       "51100       NaN       NaN       NaN       NaN       NaN  2023      1   23  \n",
       "51101       NaN       NaN       NaN       NaN       NaN  2023      1   23  \n",
       "51102       NaN       NaN       NaN       NaN       NaN  2023      1   23  \n",
       "51103       NaN       NaN       NaN       NaN       NaN  2023      1   23  \n",
       "\n",
       "[51104 rows x 11 columns]"
      ]
     },
     "execution_count": 15,
     "metadata": {},
     "output_type": "execute_result"
    }
   ],
   "source": [
    "df"
   ]
  },
  {
   "cell_type": "code",
   "execution_count": null,
   "metadata": {
    "id": "Qfl8y5RlQCdo"
   },
   "outputs": [],
   "source": [
    "df.rename(columns={'lat_mean': 'lon_mean', \"lon_mean\": \"lat_mean\"}, inplace=True)"
   ]
  },
  {
   "cell_type": "code",
   "execution_count": null,
   "metadata": {
    "colab": {
     "base_uri": "https://localhost:8080/"
    },
    "id": "ne2dGhJdRciA",
    "outputId": "f0cc4f7f-01c9-47d3-c23b-60c434954907"
   },
   "outputs": [
    {
     "name": "stderr",
     "output_type": "stream",
     "text": [
      "<ipython-input-52-face7378562a>:1: SettingWithCopyWarning: \n",
      "A value is trying to be set on a copy of a slice from a DataFrame.\n",
      "Try using .loc[row_indexer,col_indexer] = value instead\n",
      "\n",
      "See the caveats in the documentation: https://pandas.pydata.org/pandas-docs/stable/user_guide/indexing.html#returning-a-view-versus-a-copy\n",
      "  df[\"lat_mean\"] = df[['lat_1', 'lat_2']].mean(axis=1)\n",
      "<ipython-input-52-face7378562a>:2: SettingWithCopyWarning: \n",
      "A value is trying to be set on a copy of a slice from a DataFrame.\n",
      "Try using .loc[row_indexer,col_indexer] = value instead\n",
      "\n",
      "See the caveats in the documentation: https://pandas.pydata.org/pandas-docs/stable/user_guide/indexing.html#returning-a-view-versus-a-copy\n",
      "  df[\"lon_mean\"] = df[['lon_1', 'lon_2']].mean(axis=1)\n"
     ]
    }
   ],
   "source": [
    "df[\"lat_mean\"] = df[['lat_1', 'lat_2']].mean(axis=1)\n",
    "df[\"lon_mean\"] = df[['lon_1', 'lon_2']].mean(axis=1)"
   ]
  },
  {
   "cell_type": "markdown",
   "metadata": {
    "id": "qxCti2hDREsi"
   },
   "source": [
    "# Date"
   ]
  },
  {
   "cell_type": "code",
   "execution_count": null,
   "metadata": {
    "colab": {
     "base_uri": "https://localhost:8080/"
    },
    "id": "_No4tTIuQIo0",
    "outputId": "8a1c8a92-3606-4f52-900f-6e840c508f4d"
   },
   "outputs": [
    {
     "data": {
      "text/plain": [
       "filename     object\n",
       "lat_1       float64\n",
       "lon_1       float64\n",
       "lat_2       float64\n",
       "lon_2       float64\n",
       "activity     object\n",
       "lat_mean    float64\n",
       "lon_mean    float64\n",
       "year          int64\n",
       "month         int64\n",
       "day           int64\n",
       "dtype: object"
      ]
     },
     "execution_count": 27,
     "metadata": {},
     "output_type": "execute_result"
    }
   ],
   "source": [
    "df.dtypes"
   ]
  },
  {
   "cell_type": "code",
   "execution_count": null,
   "metadata": {
    "colab": {
     "base_uri": "https://localhost:8080/"
    },
    "id": "xXvwKjuGqfy-",
    "outputId": "01781fa7-52c6-4593-ec29-bb85e1aa0397"
   },
   "outputs": [
    {
     "data": {
      "text/plain": [
       "23"
      ]
     },
     "execution_count": 6,
     "metadata": {},
     "output_type": "execute_result"
    }
   ],
   "source": [
    "len(\"amhara_skysat_all_clip/\")"
   ]
  },
  {
   "cell_type": "code",
   "execution_count": null,
   "metadata": {
    "id": "2ULRJU8tQQko"
   },
   "outputs": [],
   "source": [
    "start_idx = 23\n",
    "df['year'] = df['filename'].str[start_idx: start_idx+4]\n",
    "df['month'] = df['filename'].str[start_idx+4: start_idx+6]\n",
    "df['day'] = df['filename'].str[start_idx+6: start_idx+8]"
   ]
  },
  {
   "cell_type": "code",
   "execution_count": null,
   "metadata": {
    "colab": {
     "base_uri": "https://localhost:8080/"
    },
    "id": "1xWqja5CmZDI",
    "outputId": "d077fc81-033d-40c2-a6f3-e45c01ee91d7"
   },
   "outputs": [
    {
     "data": {
      "text/plain": [
       "12"
      ]
     },
     "execution_count": 23,
     "metadata": {},
     "output_type": "execute_result"
    }
   ],
   "source": [
    "len(\"black_south/\")"
   ]
  },
  {
   "cell_type": "code",
   "execution_count": null,
   "metadata": {
    "colab": {
     "base_uri": "https://localhost:8080/"
    },
    "id": "OoHZjcVfxukd",
    "outputId": "74e99b63-2d55-4f89-b296-883886820b53"
   },
   "outputs": [
    {
     "name": "stdout",
     "output_type": "stream",
     "text": [
      "2022 03 28\n"
     ]
    }
   ],
   "source": [
    "test_str = \"20220328_073642_ssc2_u0001_visual_clip/20220328_073642_ssc2_u0001_visual_clip_4915.tif\"\n",
    "start_idx = test_str.find(\"/\") + 1"
   ]
  },
  {
   "cell_type": "code",
   "execution_count": null,
   "metadata": {
    "id": "TBU2GY_NQJoW"
   },
   "outputs": [],
   "source": [
    "df[\"year\"] = df[\"year\"].astype(\"int\")\n",
    "df[\"month\"] = df[\"month\"].astype(\"int\")\n",
    "df[\"day\"] = df[\"day\"].astype(\"int\")"
   ]
  },
  {
   "cell_type": "markdown",
   "metadata": {
    "id": "cTu4XRj8NiFV"
   },
   "source": [
    "# Elevation\n",
    "https://colab.research.google.com/drive/19_FMqOCUjGoHmr47BMdeXd9l4YscN4Qd"
   ]
  },
  {
   "cell_type": "code",
   "execution_count": null,
   "metadata": {
    "colab": {
     "base_uri": "https://localhost:8080/"
    },
    "id": "BndTAByrSHm0",
    "outputId": "debafe08-3d22-4c5c-b1e5-84c90813791c"
   },
   "outputs": [
    {
     "name": "stdout",
     "output_type": "stream",
     "text": [
      "To authorize access needed by Earth Engine, open the following URL in a web browser and follow the instructions. If the web browser does not start automatically, please manually browse the URL below.\n",
      "\n",
      "    https://code.earthengine.google.com/client-auth?scopes=https%3A//www.googleapis.com/auth/earthengine%20https%3A//www.googleapis.com/auth/devstorage.full_control&request_id=rF8_a2uAu8CD10hDIV4rf9CGLx7Gu0uBpzoPAv6RvdY&tc=-PK8LFMTNPOhYNgF-tB4eNMvFnbJVMzKtusHLjpJ6Mk&cc=V-jCi5NwunECDiP45N_N3cskakX7GYstTdJfwWH4ziU\n",
      "\n",
      "The authorization workflow will generate a code, which you should paste in the box below.\n",
      "Enter verification code: 4/1AZEOvhVZyABRuVm6PiJrg2Uens3HSYa3I6EJKKB_XQdHohGMJQap3Dj7p_s\n",
      "\n",
      "Successfully saved authorization token.\n"
     ]
    }
   ],
   "source": [
    "import ee\n",
    "\n",
    "# Trigger the authentication flow.\n",
    "ee.Authenticate()\n",
    "\n",
    "# Initialize the library.\n",
    "ee.Initialize()"
   ]
  },
  {
   "cell_type": "code",
   "execution_count": null,
   "metadata": {
    "id": "xGt4u4SbSFrP"
   },
   "outputs": [],
   "source": [
    "# Import the USGS ground elevation image.\n",
    "elv = ee.Image('USGS/SRTMGL1_003')\n",
    "projection = elv.projection();\n",
    "scale = elv.projection().nominalScale();"
   ]
  },
  {
   "cell_type": "code",
   "execution_count": null,
   "metadata": {
    "colab": {
     "base_uri": "https://localhost:8080/"
    },
    "id": "CUuTG7TJQb0T",
    "outputId": "1153f880-6b2a-4568-ef08-d5d27fe28f40"
   },
   "outputs": [
    {
     "name": "stderr",
     "output_type": "stream",
     "text": [
      "<ipython-input-56-925ba3d4c2d6>:1: SettingWithCopyWarning: \n",
      "A value is trying to be set on a copy of a slice from a DataFrame.\n",
      "Try using .loc[row_indexer,col_indexer] = value instead\n",
      "\n",
      "See the caveats in the documentation: https://pandas.pydata.org/pandas-docs/stable/user_guide/indexing.html#returning-a-view-versus-a-copy\n",
      "  df[\"altitude\"] = 0\n"
     ]
    }
   ],
   "source": [
    "df[\"altitude\"] = 0\n",
    "BATCH_SIZE = 500 # Sample 500 rows at a time, fast\n",
    "df_size = len(df)\n",
    "counter = 0\n",
    "\n",
    "# string_columns = df.select_dtypes(include='object').columns\n",
    "# min_itemsize = {col: df_slice[col].str.len().max() + 1 for col in string_columns}\n",
    "store = pd.HDFStore('output_store.h5', mode='a', min_itemsize=90)\n"
   ]
  },
  {
   "cell_type": "code",
   "execution_count": null,
   "metadata": {
    "colab": {
     "base_uri": "https://localhost:8080/"
    },
    "id": "lNAqz_GiRx-q",
    "outputId": "004b3d86-556e-4d28-a84b-7e4e1cb6ee97"
   },
   "outputs": [
    {
     "name": "stderr",
     "output_type": "stream",
     "text": [
      "<ipython-input-58-429ded431a3f>:21: SettingWithCopyWarning: \n",
      "A value is trying to be set on a copy of a slice from a DataFrame.\n",
      "Try using .loc[row_indexer,col_indexer] = value instead\n",
      "\n",
      "See the caveats in the documentation: https://pandas.pydata.org/pandas-docs/stable/user_guide/indexing.html#returning-a-view-versus-a-copy\n",
      "  df_slice['altitude'] = elevationList\n",
      "<ipython-input-58-429ded431a3f>:31: SettingWithCopyWarning: \n",
      "A value is trying to be set on a copy of a slice from a DataFrame.\n",
      "Try using .loc[row_indexer,col_indexer] = value instead\n",
      "\n",
      "See the caveats in the documentation: https://pandas.pydata.org/pandas-docs/stable/user_guide/indexing.html#returning-a-view-versus-a-copy\n",
      "  df_slice[\"lat_mean\"] = df_slice[['lat_1', 'lat_2']].mean(axis=1)\n",
      "<ipython-input-58-429ded431a3f>:32: SettingWithCopyWarning: \n",
      "A value is trying to be set on a copy of a slice from a DataFrame.\n",
      "Try using .loc[row_indexer,col_indexer] = value instead\n",
      "\n",
      "See the caveats in the documentation: https://pandas.pydata.org/pandas-docs/stable/user_guide/indexing.html#returning-a-view-versus-a-copy\n",
      "  df_slice[\"lon_mean\"] = df_slice[['lon_1', 'lon_2']].mean(axis=1)\n"
     ]
    },
    {
     "name": "stdout",
     "output_type": "stream",
     "text": [
      "500\n"
     ]
    },
    {
     "name": "stderr",
     "output_type": "stream",
     "text": [
      "<ipython-input-58-429ded431a3f>:46: SettingWithCopyWarning: \n",
      "A value is trying to be set on a copy of a slice from a DataFrame.\n",
      "Try using .loc[row_indexer,col_indexer] = value instead\n",
      "\n",
      "See the caveats in the documentation: https://pandas.pydata.org/pandas-docs/stable/user_guide/indexing.html#returning-a-view-versus-a-copy\n",
      "  df_slice['altitude'] = elevationList\n"
     ]
    }
   ],
   "source": [
    "while counter < df_size - BATCH_SIZE:\n",
    "  df_slice = df.iloc[counter:counter + BATCH_SIZE]\n",
    "  # Create a list of point features with ID properties\n",
    "\n",
    "  lat_lng_list = df_slice[['lon_mean', 'lat_mean']].values.tolist() # because ee.Geometry.Point takes points at x,y\n",
    "  point_list = []\n",
    "  for i, coord in enumerate(lat_lng_list):\n",
    "    point = ee.Geometry.Point(coord)\n",
    "    feature = ee.Feature(point, {'id': i})\n",
    "    point_list.append(feature)\n",
    "\n",
    "  # Create a FeatureCollection from the point features\n",
    "  fc = ee.FeatureCollection(point_list)\n",
    "\n",
    "  # Sample the elevation at the points\n",
    "  elv_points = elv.sampleRegions(collection=fc, scale=scale, projection=projection)\n",
    "  # Sort the FeatureCollection based on the ID property\n",
    "  elv_points = elv_points.sort('id')\n",
    "\n",
    "  elevationList = elv_points.aggregate_array('elevation').getInfo();\n",
    "  df_slice['altitude'] = elevationList\n",
    "  store.append('my_data', df_slice, min_itemsize=90)\n",
    "\n",
    "  counter += BATCH_SIZE\n",
    "\n",
    "  if counter % BATCH_SIZE == 0:\n",
    "    print(counter)\n",
    "\n",
    "# Running last time for remaining elements that are not % 10k\n",
    "df_slice = df[counter:]\n",
    "df_slice[\"lat_mean\"] = df_slice[['lat_1', 'lat_2']].mean(axis=1)\n",
    "df_slice[\"lon_mean\"] = df_slice[['lon_1', 'lon_2']].mean(axis=1)\n",
    "lat_lng_list = df_slice[['lon_mean', 'lat_mean']].values.tolist()\n",
    "point_list = []\n",
    "for i, coord in enumerate(lat_lng_list):\n",
    "  point = ee.Geometry.Point(coord)\n",
    "  feature = ee.Feature(point, {'id': i})\n",
    "  point_list.append(feature)\n",
    "\n",
    "fc = ee.FeatureCollection(point_list)\n",
    "elv_points = elv.sampleRegions(collection=fc, scale=scale, projection=projection)\n",
    "# Sort the FeatureCollection based on the ID property\n",
    "elv_points = elv_points.sort('id')\n",
    "\n",
    "elevationList = elv_points.aggregate_array('elevation').getInfo();\n",
    "df_slice['altitude'] = elevationList\n",
    "store.append('my_data', df_slice)\n",
    "\n",
    "store.close()"
   ]
  },
  {
   "cell_type": "code",
   "execution_count": null,
   "metadata": {
    "id": "HBhILCKYR6l7"
   },
   "outputs": [],
   "source": [
    "# Close the HDF5 file\n",
    "store.close()\n",
    "\n",
    "# Open the HDF5 file in 'r' mode (read-only mode)\n",
    "store = pd.HDFStore('output_store.h5', mode='r+')\n",
    "\n",
    "# Read data from the file\n",
    "out_df = store['my_data']\n",
    "\n",
    "store.close()"
   ]
  },
  {
   "cell_type": "code",
   "execution_count": null,
   "metadata": {
    "colab": {
     "base_uri": "https://localhost:8080/",
     "height": 483
    },
    "id": "iRf4hKFvG6_J",
    "outputId": "44561510-4847-4494-b3fb-ab0b137e70fa"
   },
   "outputs": [
    {
     "data": {
      "text/html": [
       "\n",
       "\n",
       "  <div id=\"df-bf07c0fb-6192-40b4-9b42-2d4273bcbdea\">\n",
       "    <div class=\"colab-df-container\">\n",
       "      <div>\n",
       "<style scoped>\n",
       "    .dataframe tbody tr th:only-of-type {\n",
       "        vertical-align: middle;\n",
       "    }\n",
       "\n",
       "    .dataframe tbody tr th {\n",
       "        vertical-align: top;\n",
       "    }\n",
       "\n",
       "    .dataframe thead th {\n",
       "        text-align: right;\n",
       "    }\n",
       "</style>\n",
       "<table border=\"1\" class=\"dataframe\">\n",
       "  <thead>\n",
       "    <tr style=\"text-align: right;\">\n",
       "      <th></th>\n",
       "      <th>filename</th>\n",
       "      <th>lon_1</th>\n",
       "      <th>lat_1</th>\n",
       "      <th>lon_2</th>\n",
       "      <th>lat_2</th>\n",
       "      <th>activity</th>\n",
       "      <th>lat_mean</th>\n",
       "      <th>lon_mean</th>\n",
       "      <th>year</th>\n",
       "      <th>month</th>\n",
       "      <th>day</th>\n",
       "      <th>altitude</th>\n",
       "    </tr>\n",
       "  </thead>\n",
       "  <tbody>\n",
       "    <tr>\n",
       "      <th>26</th>\n",
       "      <td>20230116_072932_ss01_u0001_visual_1941.tif</td>\n",
       "      <td>38.806172</td>\n",
       "      <td>8.982793</td>\n",
       "      <td>38.808502</td>\n",
       "      <td>8.980479</td>\n",
       "      <td>0.0</td>\n",
       "      <td>8.981636</td>\n",
       "      <td>38.807337</td>\n",
       "      <td>2023</td>\n",
       "      <td>1</td>\n",
       "      <td>16</td>\n",
       "      <td>2327</td>\n",
       "    </tr>\n",
       "    <tr>\n",
       "      <th>165</th>\n",
       "      <td>20221130_075418_ssc1_u0001_visual_0432.tif</td>\n",
       "      <td>38.963336</td>\n",
       "      <td>11.982696</td>\n",
       "      <td>38.965687</td>\n",
       "      <td>11.980382</td>\n",
       "      <td>1.0</td>\n",
       "      <td>11.981539</td>\n",
       "      <td>38.964512</td>\n",
       "      <td>2022</td>\n",
       "      <td>11</td>\n",
       "      <td>30</td>\n",
       "      <td>1922</td>\n",
       "    </tr>\n",
       "    <tr>\n",
       "      <th>262</th>\n",
       "      <td>20221130_075418_ssc1_u0001_visual_1740.tif</td>\n",
       "      <td>38.993906</td>\n",
       "      <td>11.964178</td>\n",
       "      <td>38.996257</td>\n",
       "      <td>11.961863</td>\n",
       "      <td>1.0</td>\n",
       "      <td>11.963020</td>\n",
       "      <td>38.995081</td>\n",
       "      <td>2022</td>\n",
       "      <td>11</td>\n",
       "      <td>30</td>\n",
       "      <td>1975</td>\n",
       "    </tr>\n",
       "    <tr>\n",
       "      <th>334</th>\n",
       "      <td>20221119_080913_ssc1_u0001_visual_0220.tif</td>\n",
       "      <td>37.292682</td>\n",
       "      <td>11.635510</td>\n",
       "      <td>37.295044</td>\n",
       "      <td>11.633210</td>\n",
       "      <td>0.0</td>\n",
       "      <td>11.634360</td>\n",
       "      <td>37.293863</td>\n",
       "      <td>2022</td>\n",
       "      <td>11</td>\n",
       "      <td>19</td>\n",
       "      <td>1810</td>\n",
       "    </tr>\n",
       "    <tr>\n",
       "      <th>358</th>\n",
       "      <td>20221119_080913_ssc1_u0001_visual_0244.tif</td>\n",
       "      <td>37.293020</td>\n",
       "      <td>11.579971</td>\n",
       "      <td>37.295381</td>\n",
       "      <td>11.577670</td>\n",
       "      <td>1.0</td>\n",
       "      <td>11.578821</td>\n",
       "      <td>37.294201</td>\n",
       "      <td>2022</td>\n",
       "      <td>11</td>\n",
       "      <td>19</td>\n",
       "      <td>1856</td>\n",
       "    </tr>\n",
       "    <tr>\n",
       "      <th>...</th>\n",
       "      <td>...</td>\n",
       "      <td>...</td>\n",
       "      <td>...</td>\n",
       "      <td>...</td>\n",
       "      <td>...</td>\n",
       "      <td>...</td>\n",
       "      <td>...</td>\n",
       "      <td>...</td>\n",
       "      <td>...</td>\n",
       "      <td>...</td>\n",
       "      <td>...</td>\n",
       "      <td>...</td>\n",
       "    </tr>\n",
       "    <tr>\n",
       "      <th>50552</th>\n",
       "      <td>20230123_071148_ssc13_u0001_visual_0140.tif</td>\n",
       "      <td>38.953812</td>\n",
       "      <td>11.974289</td>\n",
       "      <td>38.956163</td>\n",
       "      <td>11.971974</td>\n",
       "      <td>0.0</td>\n",
       "      <td>11.973132</td>\n",
       "      <td>38.954988</td>\n",
       "      <td>2023</td>\n",
       "      <td>1</td>\n",
       "      <td>23</td>\n",
       "      <td>1913</td>\n",
       "    </tr>\n",
       "    <tr>\n",
       "      <th>50591</th>\n",
       "      <td>20221031_134804_ssc19_u0001_visual_0138.tif</td>\n",
       "      <td>38.778613</td>\n",
       "      <td>8.971915</td>\n",
       "      <td>38.780943</td>\n",
       "      <td>8.969601</td>\n",
       "      <td>0.0</td>\n",
       "      <td>8.970758</td>\n",
       "      <td>38.779778</td>\n",
       "      <td>2022</td>\n",
       "      <td>10</td>\n",
       "      <td>31</td>\n",
       "      <td>2298</td>\n",
       "    </tr>\n",
       "    <tr>\n",
       "      <th>50612</th>\n",
       "      <td>20221031_134804_ssc19_u0001_visual_0156.tif</td>\n",
       "      <td>38.778638</td>\n",
       "      <td>8.930235</td>\n",
       "      <td>38.780968</td>\n",
       "      <td>8.927921</td>\n",
       "      <td>0.0</td>\n",
       "      <td>8.929078</td>\n",
       "      <td>38.779803</td>\n",
       "      <td>2022</td>\n",
       "      <td>10</td>\n",
       "      <td>31</td>\n",
       "      <td>2128</td>\n",
       "    </tr>\n",
       "    <tr>\n",
       "      <th>50757</th>\n",
       "      <td>20221031_134804_ssc19_u0001_visual_0457.tif</td>\n",
       "      <td>38.785625</td>\n",
       "      <td>8.927924</td>\n",
       "      <td>38.787955</td>\n",
       "      <td>8.925610</td>\n",
       "      <td>0.0</td>\n",
       "      <td>8.926767</td>\n",
       "      <td>38.786790</td>\n",
       "      <td>2022</td>\n",
       "      <td>10</td>\n",
       "      <td>31</td>\n",
       "      <td>2148</td>\n",
       "    </tr>\n",
       "    <tr>\n",
       "      <th>50997</th>\n",
       "      <td>20221028_084503_ssc16_u0001_visual_1717.tif</td>\n",
       "      <td>38.994456</td>\n",
       "      <td>12.020952</td>\n",
       "      <td>38.996808</td>\n",
       "      <td>12.018637</td>\n",
       "      <td>0.0</td>\n",
       "      <td>12.019795</td>\n",
       "      <td>38.995632</td>\n",
       "      <td>2022</td>\n",
       "      <td>10</td>\n",
       "      <td>28</td>\n",
       "      <td>2140</td>\n",
       "    </tr>\n",
       "  </tbody>\n",
       "</table>\n",
       "<p>689 rows × 12 columns</p>\n",
       "</div>\n",
       "      <button class=\"colab-df-convert\" onclick=\"convertToInteractive('df-bf07c0fb-6192-40b4-9b42-2d4273bcbdea')\"\n",
       "              title=\"Convert this dataframe to an interactive table.\"\n",
       "              style=\"display:none;\">\n",
       "\n",
       "  <svg xmlns=\"http://www.w3.org/2000/svg\" height=\"24px\"viewBox=\"0 0 24 24\"\n",
       "       width=\"24px\">\n",
       "    <path d=\"M0 0h24v24H0V0z\" fill=\"none\"/>\n",
       "    <path d=\"M18.56 5.44l.94 2.06.94-2.06 2.06-.94-2.06-.94-.94-2.06-.94 2.06-2.06.94zm-11 1L8.5 8.5l.94-2.06 2.06-.94-2.06-.94L8.5 2.5l-.94 2.06-2.06.94zm10 10l.94 2.06.94-2.06 2.06-.94-2.06-.94-.94-2.06-.94 2.06-2.06.94z\"/><path d=\"M17.41 7.96l-1.37-1.37c-.4-.4-.92-.59-1.43-.59-.52 0-1.04.2-1.43.59L10.3 9.45l-7.72 7.72c-.78.78-.78 2.05 0 2.83L4 21.41c.39.39.9.59 1.41.59.51 0 1.02-.2 1.41-.59l7.78-7.78 2.81-2.81c.8-.78.8-2.07 0-2.86zM5.41 20L4 18.59l7.72-7.72 1.47 1.35L5.41 20z\"/>\n",
       "  </svg>\n",
       "      </button>\n",
       "\n",
       "\n",
       "\n",
       "    <div id=\"df-8e88bc94-6069-4ce6-96b5-ed5a37fe2e6e\">\n",
       "      <button class=\"colab-df-quickchart\" onclick=\"quickchart('df-8e88bc94-6069-4ce6-96b5-ed5a37fe2e6e')\"\n",
       "              title=\"Suggest charts.\"\n",
       "              style=\"display:none;\">\n",
       "\n",
       "<svg xmlns=\"http://www.w3.org/2000/svg\" height=\"24px\"viewBox=\"0 0 24 24\"\n",
       "     width=\"24px\">\n",
       "    <g>\n",
       "        <path d=\"M19 3H5c-1.1 0-2 .9-2 2v14c0 1.1.9 2 2 2h14c1.1 0 2-.9 2-2V5c0-1.1-.9-2-2-2zM9 17H7v-7h2v7zm4 0h-2V7h2v10zm4 0h-2v-4h2v4z\"/>\n",
       "    </g>\n",
       "</svg>\n",
       "      </button>\n",
       "    </div>\n",
       "\n",
       "<style>\n",
       "  .colab-df-quickchart {\n",
       "    background-color: #E8F0FE;\n",
       "    border: none;\n",
       "    border-radius: 50%;\n",
       "    cursor: pointer;\n",
       "    display: none;\n",
       "    fill: #1967D2;\n",
       "    height: 32px;\n",
       "    padding: 0 0 0 0;\n",
       "    width: 32px;\n",
       "  }\n",
       "\n",
       "  .colab-df-quickchart:hover {\n",
       "    background-color: #E2EBFA;\n",
       "    box-shadow: 0px 1px 2px rgba(60, 64, 67, 0.3), 0px 1px 3px 1px rgba(60, 64, 67, 0.15);\n",
       "    fill: #174EA6;\n",
       "  }\n",
       "\n",
       "  [theme=dark] .colab-df-quickchart {\n",
       "    background-color: #3B4455;\n",
       "    fill: #D2E3FC;\n",
       "  }\n",
       "\n",
       "  [theme=dark] .colab-df-quickchart:hover {\n",
       "    background-color: #434B5C;\n",
       "    box-shadow: 0px 1px 3px 1px rgba(0, 0, 0, 0.15);\n",
       "    filter: drop-shadow(0px 1px 2px rgba(0, 0, 0, 0.3));\n",
       "    fill: #FFFFFF;\n",
       "  }\n",
       "</style>\n",
       "\n",
       "    <script>\n",
       "      async function quickchart(key) {\n",
       "        const containerElement = document.querySelector('#' + key);\n",
       "        const charts = await google.colab.kernel.invokeFunction(\n",
       "            'suggestCharts', [key], {});\n",
       "      }\n",
       "    </script>\n",
       "\n",
       "      <script>\n",
       "\n",
       "function displayQuickchartButton(domScope) {\n",
       "  let quickchartButtonEl =\n",
       "    domScope.querySelector('#df-8e88bc94-6069-4ce6-96b5-ed5a37fe2e6e button.colab-df-quickchart');\n",
       "  quickchartButtonEl.style.display =\n",
       "    google.colab.kernel.accessAllowed ? 'block' : 'none';\n",
       "}\n",
       "\n",
       "        displayQuickchartButton(document);\n",
       "      </script>\n",
       "      <style>\n",
       "    .colab-df-container {\n",
       "      display:flex;\n",
       "      flex-wrap:wrap;\n",
       "      gap: 12px;\n",
       "    }\n",
       "\n",
       "    .colab-df-convert {\n",
       "      background-color: #E8F0FE;\n",
       "      border: none;\n",
       "      border-radius: 50%;\n",
       "      cursor: pointer;\n",
       "      display: none;\n",
       "      fill: #1967D2;\n",
       "      height: 32px;\n",
       "      padding: 0 0 0 0;\n",
       "      width: 32px;\n",
       "    }\n",
       "\n",
       "    .colab-df-convert:hover {\n",
       "      background-color: #E2EBFA;\n",
       "      box-shadow: 0px 1px 2px rgba(60, 64, 67, 0.3), 0px 1px 3px 1px rgba(60, 64, 67, 0.15);\n",
       "      fill: #174EA6;\n",
       "    }\n",
       "\n",
       "    [theme=dark] .colab-df-convert {\n",
       "      background-color: #3B4455;\n",
       "      fill: #D2E3FC;\n",
       "    }\n",
       "\n",
       "    [theme=dark] .colab-df-convert:hover {\n",
       "      background-color: #434B5C;\n",
       "      box-shadow: 0px 1px 3px 1px rgba(0, 0, 0, 0.15);\n",
       "      filter: drop-shadow(0px 1px 2px rgba(0, 0, 0, 0.3));\n",
       "      fill: #FFFFFF;\n",
       "    }\n",
       "  </style>\n",
       "\n",
       "      <script>\n",
       "        const buttonEl =\n",
       "          document.querySelector('#df-bf07c0fb-6192-40b4-9b42-2d4273bcbdea button.colab-df-convert');\n",
       "        buttonEl.style.display =\n",
       "          google.colab.kernel.accessAllowed ? 'block' : 'none';\n",
       "\n",
       "        async function convertToInteractive(key) {\n",
       "          const element = document.querySelector('#df-bf07c0fb-6192-40b4-9b42-2d4273bcbdea');\n",
       "          const dataTable =\n",
       "            await google.colab.kernel.invokeFunction('convertToInteractive',\n",
       "                                                     [key], {});\n",
       "          if (!dataTable) return;\n",
       "\n",
       "          const docLinkHtml = 'Like what you see? Visit the ' +\n",
       "            '<a target=\"_blank\" href=https://colab.research.google.com/notebooks/data_table.ipynb>data table notebook</a>'\n",
       "            + ' to learn more about interactive tables.';\n",
       "          element.innerHTML = '';\n",
       "          dataTable['output_type'] = 'display_data';\n",
       "          await google.colab.output.renderOutput(dataTable, element);\n",
       "          const docLink = document.createElement('div');\n",
       "          docLink.innerHTML = docLinkHtml;\n",
       "          element.appendChild(docLink);\n",
       "        }\n",
       "      </script>\n",
       "    </div>\n",
       "  </div>\n"
      ],
      "text/plain": [
       "                                          filename      lon_1      lat_1  \\\n",
       "26      20230116_072932_ss01_u0001_visual_1941.tif  38.806172   8.982793   \n",
       "165     20221130_075418_ssc1_u0001_visual_0432.tif  38.963336  11.982696   \n",
       "262     20221130_075418_ssc1_u0001_visual_1740.tif  38.993906  11.964178   \n",
       "334     20221119_080913_ssc1_u0001_visual_0220.tif  37.292682  11.635510   \n",
       "358     20221119_080913_ssc1_u0001_visual_0244.tif  37.293020  11.579971   \n",
       "...                                            ...        ...        ...   \n",
       "50552  20230123_071148_ssc13_u0001_visual_0140.tif  38.953812  11.974289   \n",
       "50591  20221031_134804_ssc19_u0001_visual_0138.tif  38.778613   8.971915   \n",
       "50612  20221031_134804_ssc19_u0001_visual_0156.tif  38.778638   8.930235   \n",
       "50757  20221031_134804_ssc19_u0001_visual_0457.tif  38.785625   8.927924   \n",
       "50997  20221028_084503_ssc16_u0001_visual_1717.tif  38.994456  12.020952   \n",
       "\n",
       "           lon_2      lat_2  activity   lat_mean   lon_mean  year  month  day  \\\n",
       "26     38.808502   8.980479       0.0   8.981636  38.807337  2023      1   16   \n",
       "165    38.965687  11.980382       1.0  11.981539  38.964512  2022     11   30   \n",
       "262    38.996257  11.961863       1.0  11.963020  38.995081  2022     11   30   \n",
       "334    37.295044  11.633210       0.0  11.634360  37.293863  2022     11   19   \n",
       "358    37.295381  11.577670       1.0  11.578821  37.294201  2022     11   19   \n",
       "...          ...        ...       ...        ...        ...   ...    ...  ...   \n",
       "50552  38.956163  11.971974       0.0  11.973132  38.954988  2023      1   23   \n",
       "50591  38.780943   8.969601       0.0   8.970758  38.779778  2022     10   31   \n",
       "50612  38.780968   8.927921       0.0   8.929078  38.779803  2022     10   31   \n",
       "50757  38.787955   8.925610       0.0   8.926767  38.786790  2022     10   31   \n",
       "50997  38.996808  12.018637       0.0  12.019795  38.995632  2022     10   28   \n",
       "\n",
       "       altitude  \n",
       "26         2327  \n",
       "165        1922  \n",
       "262        1975  \n",
       "334        1810  \n",
       "358        1856  \n",
       "...         ...  \n",
       "50552      1913  \n",
       "50591      2298  \n",
       "50612      2128  \n",
       "50757      2148  \n",
       "50997      2140  \n",
       "\n",
       "[689 rows x 12 columns]"
      ]
     },
     "execution_count": 61,
     "metadata": {},
     "output_type": "execute_result"
    }
   ],
   "source": [
    "out_df"
   ]
  },
  {
   "cell_type": "markdown",
   "metadata": {
    "id": "eVsU5XEpR9Yt"
   },
   "source": [
    "# Save"
   ]
  },
  {
   "cell_type": "code",
   "execution_count": null,
   "metadata": {
    "colab": {
     "base_uri": "https://localhost:8080/"
    },
    "id": "aYVWUEpnchLf",
    "outputId": "1dd99b46-004a-4350-fff7-388ca4edfdc2"
   },
   "outputs": [
    {
     "data": {
      "text/plain": [
       "689"
      ]
     },
     "execution_count": 62,
     "metadata": {},
     "output_type": "execute_result"
    }
   ],
   "source": [
    "len(out_df)"
   ]
  },
  {
   "cell_type": "code",
   "execution_count": null,
   "metadata": {
    "id": "CxPSHxpfR-8b"
   },
   "outputs": [],
   "source": [
    "out_df.to_csv('output.csv')"
   ]
  },
  {
   "cell_type": "code",
   "execution_count": null,
   "metadata": {
    "id": "n4NGxFe2SASV"
   },
   "outputs": [],
   "source": [
    "!cp \"output.csv\" \"/content/drive/MyDrive/Projects/Harvest Pile/ethiopia/skysat dataset/amhara_labels.csv\""
   ]
  },
  {
   "cell_type": "code",
   "execution_count": null,
   "metadata": {
    "id": "eGMdfkZzCFJL"
   },
   "outputs": [],
   "source": []
  }
 ],
 "metadata": {
  "colab": {
   "provenance": []
  },
  "kernelspec": {
   "display_name": "Python 3 (ipykernel)",
   "language": "python",
   "name": "python3"
  },
  "language_info": {
   "codemirror_mode": {
    "name": "ipython",
    "version": 3
   },
   "file_extension": ".py",
   "mimetype": "text/x-python",
   "name": "python",
   "nbconvert_exporter": "python",
   "pygments_lexer": "ipython3",
   "version": "3.10.12"
  }
 },
 "nbformat": 4,
 "nbformat_minor": 4
}
