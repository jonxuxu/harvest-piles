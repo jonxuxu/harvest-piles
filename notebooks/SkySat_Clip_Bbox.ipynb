{
 "cells": [
  {
   "cell_type": "code",
   "execution_count": null,
   "metadata": {},
   "outputs": [],
   "source": [
    "from osgeo import gdal\n",
    "import numpy as np\n",
    "import pandas as pd\n",
    "import csv\n",
    "import os\n",
    "import geopandas as gpd\n",
    "from shapely.geometry import box"
   ]
  },
  {
   "cell_type": "code",
   "execution_count": null,
   "metadata": {},
   "outputs": [],
   "source": [
    "def load_geotiff(file):\n",
    "    ds = gdal.Open(file)\n",
    "    band1 = ds.GetRasterBand(1).ReadAsArray() # Red channel\n",
    "    band2 = ds.GetRasterBand(2).ReadAsArray() # Green channel\n",
    "    band3 = ds.GetRasterBand(3).ReadAsArray() # Blue channel\n",
    "    img = np.dstack((band1, band2, band3))\n",
    "    return img\n",
    "\n",
    "# Get image coordinates\n",
    "def get_coordinates(f):\n",
    "  ds = gdal.Open(f)\n",
    "  gt = ds.GetGeoTransform()\n",
    "\n",
    "  # print(ds.GetProjection())\n",
    "  width = ds.RasterXSize\n",
    "  height = ds.RasterYSize\n",
    "  # print(width, height)\n",
    "\n",
    "  minx = gt[0]\n",
    "  miny = gt[3] + width*gt[4] + height*gt[5] \n",
    "  maxx = gt[0] + width*gt[1] + height*gt[2]\n",
    "  maxy = gt[3]\n",
    "\n",
    "  # Upper-left\n",
    "  lon1, lat1 = minx, maxy\n",
    "  # Bottom-right\n",
    "  lon2, lat2 = maxx, miny\n",
    "\n",
    "  return(lat1, lon1, lat2, lon2)"
   ]
  },
  {
   "cell_type": "code",
   "execution_count": null,
   "metadata": {},
   "outputs": [],
   "source": [
    "FOLDER_PATH = 'folder_path_to_skysat_images'\n",
    "\n",
    "out_file = open('bbox.csv', 'w')\n",
    "writer = csv.writer(out_file)\n",
    "header = ['filename', 'lat_1', 'lon_1', \"lat_2\", \"lon_2\"]\n",
    "writer.writerow(header)\n",
    "\n",
    "count = 0\n",
    "for filename in os.listdir(FOLDER_PATH):\n",
    "      f = os.path.join(FOLDER_PATH, filename)\n",
    "      lat1, lon1, lat2, lon2 = get_coordinates(f)\n",
    "      print(lat1, lon1, lat2, lon2)\n",
    "      writer.writerow([filename, lat1, lon1, lat2, lon2])\n",
    "      count += 1\n",
    "\n",
    "      if count % 100 == 0:\n",
    "            print(count)\n",
    "\n",
    "out_file.close()"
   ]
  }
 ],
 "metadata": {
  "kernelspec": {
   "display_name": "Python 3 (ipykernel)",
   "language": "python",
   "name": "python3"
  },
  "language_info": {
   "codemirror_mode": {
    "name": "ipython",
    "version": 3
   },
   "file_extension": ".py",
   "mimetype": "text/x-python",
   "name": "python",
   "nbconvert_exporter": "python",
   "pygments_lexer": "ipython3",
   "version": "3.10.5"
  }
 },
 "nbformat": 4,
 "nbformat_minor": 2
}
